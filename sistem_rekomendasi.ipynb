{
 "cells": [
  {
   "cell_type": "markdown",
   "id": "a7f59a86",
   "metadata": {},
   "source": [
    "# Recommendation System for Online Market Fresh Seafood: Manettas\n",
    "## with Content Based Filtering (CBF)"
   ]
  },
  {
   "cell_type": "code",
   "execution_count": 54,
   "id": "68fd50b0",
   "metadata": {},
   "outputs": [],
   "source": [
    "import   random\n",
    "import   pickle\n",
    "import   warnings\n",
    "warnings.filterwarnings(action='ignore')"
   ]
  },
  {
   "cell_type": "code",
   "execution_count": 2,
   "id": "24e95395",
   "metadata": {},
   "outputs": [],
   "source": [
    "from pyforest                        import *\n",
    "from sklearn.metrics                 import precision_score, recall_score, f1_score\n",
    "from nltk.stem.porter                import PorterStemmer\n",
    "from sklearn.metrics.pairwise        import cosine_similarity, linear_kernel\n",
    "from sklearn.feature_extraction.text import TfidfVectorizer\n"
   ]
  },
  {
   "cell_type": "code",
   "execution_count": 3,
   "id": "547abcca",
   "metadata": {},
   "outputs": [
    {
     "data": {
      "application/javascript": [
       "\n",
       "        if (window._pyforest_update_imports_cell) { window._pyforest_update_imports_cell('import pandas as pd'); }\n",
       "    "
      ],
      "text/plain": [
       "<IPython.core.display.Javascript object>"
      ]
     },
     "metadata": {},
     "output_type": "display_data"
    },
    {
     "data": {
      "text/html": [
       "<div>\n",
       "<style scoped>\n",
       "    .dataframe tbody tr th:only-of-type {\n",
       "        vertical-align: middle;\n",
       "    }\n",
       "\n",
       "    .dataframe tbody tr th {\n",
       "        vertical-align: top;\n",
       "    }\n",
       "\n",
       "    .dataframe thead th {\n",
       "        text-align: right;\n",
       "    }\n",
       "</style>\n",
       "<table border=\"1\" class=\"dataframe\">\n",
       "  <thead>\n",
       "    <tr style=\"text-align: right;\">\n",
       "      <th></th>\n",
       "      <th>nama_produk</th>\n",
       "      <th>harga</th>\n",
       "      <th>kriteria</th>\n",
       "      <th>asal_produk</th>\n",
       "      <th>link</th>\n",
       "      <th>deskripsi</th>\n",
       "      <th>kategori</th>\n",
       "    </tr>\n",
       "  </thead>\n",
       "  <tbody>\n",
       "    <tr>\n",
       "      <th>0</th>\n",
       "      <td>Salmon Fillets (2 x 180g)</td>\n",
       "      <td>$23.90 per pack</td>\n",
       "      <td>Each pack contains 2 x 180g fillets</td>\n",
       "      <td>Origin: Tasmania, Australia</td>\n",
       "      <td>https://www.manettas.com.au/product/salmon-fil...</td>\n",
       "      <td>Catch salmon fillet in Tasmania's cold waters....</td>\n",
       "      <td>Fish - Fillets, Cutlets &amp; Tails</td>\n",
       "    </tr>\n",
       "    <tr>\n",
       "      <th>1</th>\n",
       "      <td>Bulk Buy Salmon Portions</td>\n",
       "      <td>$59.90 per kg</td>\n",
       "      <td>Minimum Order for Bulk Buy is 5kg</td>\n",
       "      <td>Origin: Australia</td>\n",
       "      <td>https://www.manettas.com.au/product/bulk-buy-s...</td>\n",
       "      <td>Wholesale Salmon Portions are perfect for eith...</td>\n",
       "      <td>Fish - Fillets, Cutlets &amp; Tails</td>\n",
       "    </tr>\n",
       "    <tr>\n",
       "      <th>2</th>\n",
       "      <td>Tasmanian Salmon Side</td>\n",
       "      <td>$78.00 per side</td>\n",
       "      <td>Minimum weight per side 1.4kg</td>\n",
       "      <td>Origin: Tasmania, Australia</td>\n",
       "      <td>https://www.manettas.com.au/product/tasmanian-...</td>\n",
       "      <td>Tasmanian Salmon Side is a diverse fish in the...</td>\n",
       "      <td>Fish - Fillets, Cutlets &amp; Tails</td>\n",
       "    </tr>\n",
       "    <tr>\n",
       "      <th>3</th>\n",
       "      <td>Bulk Buy Salmon Side</td>\n",
       "      <td>$49.90 per kg</td>\n",
       "      <td>Minimum Order for Bulk Buy is 10kg</td>\n",
       "      <td>Origin: Australia</td>\n",
       "      <td>https://www.manettas.com.au/product/bulk-buy-s...</td>\n",
       "      <td>Wholesale salmon side through bulk buy is perf...</td>\n",
       "      <td>Fish - Fillets, Cutlets &amp; Tails</td>\n",
       "    </tr>\n",
       "    <tr>\n",
       "      <th>4</th>\n",
       "      <td>Ora King Salmon Side</td>\n",
       "      <td>$110.00 per side</td>\n",
       "      <td>Minimum weight per side 1.5kg</td>\n",
       "      <td>Origin: New Zealand</td>\n",
       "      <td>https://www.manettas.com.au/product/ora-king-s...</td>\n",
       "      <td>This King Salmon from New Zealand is regarded ...</td>\n",
       "      <td>Fish - Fillets, Cutlets &amp; Tails</td>\n",
       "    </tr>\n",
       "    <tr>\n",
       "      <th>...</th>\n",
       "      <td>...</td>\n",
       "      <td>...</td>\n",
       "      <td>...</td>\n",
       "      <td>...</td>\n",
       "      <td>...</td>\n",
       "      <td>...</td>\n",
       "      <td>...</td>\n",
       "    </tr>\n",
       "    <tr>\n",
       "      <th>434</th>\n",
       "      <td>Hiramasa Kingfish Fillets</td>\n",
       "      <td>$10.50 per fillet (25% SAVINGS)</td>\n",
       "      <td>Minimum weight per fillet 200g</td>\n",
       "      <td>Origin: Australia</td>\n",
       "      <td>https://www.manettas.com.au/product/kingfish-f...</td>\n",
       "      <td>By far the premium name in Kingfish is Hiramas...</td>\n",
       "      <td>Manettas Weekly Specials</td>\n",
       "    </tr>\n",
       "    <tr>\n",
       "      <th>435</th>\n",
       "      <td>Hiramasa Kingfish Side Frozen</td>\n",
       "      <td>$45.00 per side (18% SAVINGS)</td>\n",
       "      <td>Minimum weight per side 1kg</td>\n",
       "      <td>Origin: Australia</td>\n",
       "      <td>https://www.manettas.com.au/product/hiramasa-k...</td>\n",
       "      <td>Also known as yellowtail kingfish, this is a v...</td>\n",
       "      <td>Manettas Weekly Specials</td>\n",
       "    </tr>\n",
       "    <tr>\n",
       "      <th>436</th>\n",
       "      <td>Portoro Scotch Fillets MB4+ (2 x 300g)</td>\n",
       "      <td>$45.00 per pack (23% SAVINGS)</td>\n",
       "      <td>Scotch fillets are packed 2 x 300g</td>\n",
       "      <td>Origin: Australia</td>\n",
       "      <td>https://www.manettas.com.au/product/portoro-sc...</td>\n",
       "      <td>Indulge in this exquisite Portoro Scotch Fille...</td>\n",
       "      <td>Manettas Weekly Specials</td>\n",
       "    </tr>\n",
       "    <tr>\n",
       "      <th>437</th>\n",
       "      <td>T-Bone (2 x 400g)</td>\n",
       "      <td>$35.00 per pack (26% SAVINGS)</td>\n",
       "      <td>T-Bones are packed 2 x 400g</td>\n",
       "      <td>Origin: Australia</td>\n",
       "      <td>https://www.manettas.com.au/product/t-bone-2-x...</td>\n",
       "      <td>T-Bone (2 x 400g) is a premium cut of meat wit...</td>\n",
       "      <td>Manettas Weekly Specials</td>\n",
       "    </tr>\n",
       "    <tr>\n",
       "      <th>438</th>\n",
       "      <td>In The Roundhouse Lobster Platter</td>\n",
       "      <td>$54.00 per plate (10% SAVINGS)</td>\n",
       "      <td>NaN</td>\n",
       "      <td>Origin: Australia</td>\n",
       "      <td>https://www.manettas.com.au/product/in-the-rou...</td>\n",
       "      <td>Grab yourself a In the Roundhouse lobster plat...</td>\n",
       "      <td>Manettas Weekly Specials</td>\n",
       "    </tr>\n",
       "  </tbody>\n",
       "</table>\n",
       "<p>439 rows × 7 columns</p>\n",
       "</div>"
      ],
      "text/plain": [
       "                                nama_produk                            harga  \\\n",
       "0                 Salmon Fillets (2 x 180g)                  $23.90 per pack   \n",
       "1                  Bulk Buy Salmon Portions                    $59.90 per kg   \n",
       "2                     Tasmanian Salmon Side                  $78.00 per side   \n",
       "3                      Bulk Buy Salmon Side                    $49.90 per kg   \n",
       "4                      Ora King Salmon Side                 $110.00 per side   \n",
       "..                                      ...                              ...   \n",
       "434               Hiramasa Kingfish Fillets  $10.50 per fillet (25% SAVINGS)   \n",
       "435           Hiramasa Kingfish Side Frozen    $45.00 per side (18% SAVINGS)   \n",
       "436  Portoro Scotch Fillets MB4+ (2 x 300g)    $45.00 per pack (23% SAVINGS)   \n",
       "437                       T-Bone (2 x 400g)    $35.00 per pack (26% SAVINGS)   \n",
       "438       In The Roundhouse Lobster Platter   $54.00 per plate (10% SAVINGS)   \n",
       "\n",
       "                                kriteria                  asal_produk  \\\n",
       "0    Each pack contains 2 x 180g fillets  Origin: Tasmania, Australia   \n",
       "1      Minimum Order for Bulk Buy is 5kg            Origin: Australia   \n",
       "2          Minimum weight per side 1.4kg  Origin: Tasmania, Australia   \n",
       "3     Minimum Order for Bulk Buy is 10kg            Origin: Australia   \n",
       "4          Minimum weight per side 1.5kg          Origin: New Zealand   \n",
       "..                                   ...                          ...   \n",
       "434       Minimum weight per fillet 200g            Origin: Australia   \n",
       "435          Minimum weight per side 1kg            Origin: Australia   \n",
       "436   Scotch fillets are packed 2 x 300g            Origin: Australia   \n",
       "437          T-Bones are packed 2 x 400g            Origin: Australia   \n",
       "438                                  NaN            Origin: Australia   \n",
       "\n",
       "                                                  link  \\\n",
       "0    https://www.manettas.com.au/product/salmon-fil...   \n",
       "1    https://www.manettas.com.au/product/bulk-buy-s...   \n",
       "2    https://www.manettas.com.au/product/tasmanian-...   \n",
       "3    https://www.manettas.com.au/product/bulk-buy-s...   \n",
       "4    https://www.manettas.com.au/product/ora-king-s...   \n",
       "..                                                 ...   \n",
       "434  https://www.manettas.com.au/product/kingfish-f...   \n",
       "435  https://www.manettas.com.au/product/hiramasa-k...   \n",
       "436  https://www.manettas.com.au/product/portoro-sc...   \n",
       "437  https://www.manettas.com.au/product/t-bone-2-x...   \n",
       "438  https://www.manettas.com.au/product/in-the-rou...   \n",
       "\n",
       "                                             deskripsi  \\\n",
       "0    Catch salmon fillet in Tasmania's cold waters....   \n",
       "1    Wholesale Salmon Portions are perfect for eith...   \n",
       "2    Tasmanian Salmon Side is a diverse fish in the...   \n",
       "3    Wholesale salmon side through bulk buy is perf...   \n",
       "4    This King Salmon from New Zealand is regarded ...   \n",
       "..                                                 ...   \n",
       "434  By far the premium name in Kingfish is Hiramas...   \n",
       "435  Also known as yellowtail kingfish, this is a v...   \n",
       "436  Indulge in this exquisite Portoro Scotch Fille...   \n",
       "437  T-Bone (2 x 400g) is a premium cut of meat wit...   \n",
       "438  Grab yourself a In the Roundhouse lobster plat...   \n",
       "\n",
       "                            kategori  \n",
       "0    Fish - Fillets, Cutlets & Tails  \n",
       "1    Fish - Fillets, Cutlets & Tails  \n",
       "2    Fish - Fillets, Cutlets & Tails  \n",
       "3    Fish - Fillets, Cutlets & Tails  \n",
       "4    Fish - Fillets, Cutlets & Tails  \n",
       "..                               ...  \n",
       "434         Manettas Weekly Specials  \n",
       "435         Manettas Weekly Specials  \n",
       "436         Manettas Weekly Specials  \n",
       "437         Manettas Weekly Specials  \n",
       "438         Manettas Weekly Specials  \n",
       "\n",
       "[439 rows x 7 columns]"
      ]
     },
     "execution_count": 3,
     "metadata": {},
     "output_type": "execute_result"
    }
   ],
   "source": [
    "df   = pd.read_csv('C:/Users/ASUS/kode/Projek/Recommendation_System_Manettas/manettas.csv')\n",
    "df"
   ]
  },
  {
   "cell_type": "code",
   "execution_count": 4,
   "id": "9b957d07",
   "metadata": {},
   "outputs": [
    {
     "data": {
      "text/plain": [
       "\"Catch salmon fillet in Tasmania's cold waters. These are the finest Australian Salmon Fillets in the market. All Tasmanian salmon is completely sustainable. Salmon (in particular Tasmanian Salmon) is one of the healthiest meals you can prepare.\\r\\n\\r\\nFresh seafood online that delivers direct from the Sydney Fish Market. Buy salmon fillet online today, learn how to cook salmon fillets, work out how to achieve that crispy skin salmon, and looks at the best sauce for salmon fillet. This is the fresh seafood online that delivers.How Do My Tasmanian Salmon Fillet come:each pack contains 2 x 180g filletsall fresh fillets are skin onThe minimum weight of 360gm at $68.00/kg in used to calculate the fixed priceWant to learn how to cook\\xa0salmon fillets, how to get the crispy skin salmon or even best sauce for salmon fillet.Click here to learn how to cook fish fillets.View our Crispy Skin Salmon recipe here.\""
      ]
     },
     "execution_count": 4,
     "metadata": {},
     "output_type": "execute_result"
    }
   ],
   "source": [
    "df['deskripsi'][0]"
   ]
  },
  {
   "cell_type": "markdown",
   "id": "d9d0e0f8",
   "metadata": {},
   "source": [
    "### Data Preprocessing\n",
    "- Cleaning Data missing value\n",
    "- Seleksi Fitur: Memilih fitur yang relevan dan berguna untuk proses pemodelan.\n",
    "- Pembersihan Kolom 'asal_produk': Menghapus kata 'Origin: ' dari kolom 'asal_produk' dan mengonversi/merubahnya menjadi list [,] menggunakan metode split.\n",
    "- Pembersihan Deskripsi: Mengonversi/merubah kolom 'deskripsi' menjadi list menggunakan metode split.\n",
    "- Penggabungan Fitur: Menggabungkan semua fitur yang digunakan ke dalam satu fitur utama yang mengandung informasi selain 'nama_produk'.\n",
    "- Stemming: Melakukan proses stemming untuk menormalkan kata-kata dalam dataset.\n",
    "- Lowercasing: Mengubah semua teks menjadi huruf kecil untuk konsistensi.\n",
    "- Count Vectorizer: Mengubah teks menjadi representasi numerik menggunakan Count Vectorizer untuk persiapan pemodelan."
   ]
  },
  {
   "cell_type": "code",
   "execution_count": 5,
   "id": "33de6eb5",
   "metadata": {},
   "outputs": [
    {
     "name": "stdout",
     "output_type": "stream",
     "text": [
      "<class 'pandas.core.frame.DataFrame'>\n",
      "RangeIndex: 439 entries, 0 to 438\n",
      "Data columns (total 7 columns):\n",
      " #   Column       Non-Null Count  Dtype \n",
      "---  ------       --------------  ----- \n",
      " 0   nama_produk  439 non-null    object\n",
      " 1   harga        439 non-null    object\n",
      " 2   kriteria     399 non-null    object\n",
      " 3   asal_produk  428 non-null    object\n",
      " 4   link         439 non-null    object\n",
      " 5   deskripsi    439 non-null    object\n",
      " 6   kategori     439 non-null    object\n",
      "dtypes: object(7)\n",
      "memory usage: 24.1+ KB\n"
     ]
    }
   ],
   "source": [
    "df.info()"
   ]
  },
  {
   "cell_type": "code",
   "execution_count": 6,
   "id": "d0962d7a",
   "metadata": {},
   "outputs": [],
   "source": [
    "df2 = df.copy()\n",
    "df2 = df2[['nama_produk',\n",
    "           'asal_produk',\n",
    "           'deskripsi',\n",
    "           'kategori']]"
   ]
  },
  {
   "cell_type": "code",
   "execution_count": 7,
   "id": "95fa8977",
   "metadata": {},
   "outputs": [
    {
     "data": {
      "text/html": [
       "<div>\n",
       "<style scoped>\n",
       "    .dataframe tbody tr th:only-of-type {\n",
       "        vertical-align: middle;\n",
       "    }\n",
       "\n",
       "    .dataframe tbody tr th {\n",
       "        vertical-align: top;\n",
       "    }\n",
       "\n",
       "    .dataframe thead th {\n",
       "        text-align: right;\n",
       "    }\n",
       "</style>\n",
       "<table border=\"1\" class=\"dataframe\">\n",
       "  <thead>\n",
       "    <tr style=\"text-align: right;\">\n",
       "      <th></th>\n",
       "      <th>nama_produk</th>\n",
       "      <th>asal_produk</th>\n",
       "      <th>deskripsi</th>\n",
       "      <th>kategori</th>\n",
       "    </tr>\n",
       "  </thead>\n",
       "  <tbody>\n",
       "    <tr>\n",
       "      <th>0</th>\n",
       "      <td>Salmon Fillets (2 x 180g)</td>\n",
       "      <td>Origin: Tasmania, Australia</td>\n",
       "      <td>Catch salmon fillet in Tasmania's cold waters....</td>\n",
       "      <td>Fish - Fillets, Cutlets &amp; Tails</td>\n",
       "    </tr>\n",
       "    <tr>\n",
       "      <th>1</th>\n",
       "      <td>Bulk Buy Salmon Portions</td>\n",
       "      <td>Origin: Australia</td>\n",
       "      <td>Wholesale Salmon Portions are perfect for eith...</td>\n",
       "      <td>Fish - Fillets, Cutlets &amp; Tails</td>\n",
       "    </tr>\n",
       "    <tr>\n",
       "      <th>2</th>\n",
       "      <td>Tasmanian Salmon Side</td>\n",
       "      <td>Origin: Tasmania, Australia</td>\n",
       "      <td>Tasmanian Salmon Side is a diverse fish in the...</td>\n",
       "      <td>Fish - Fillets, Cutlets &amp; Tails</td>\n",
       "    </tr>\n",
       "    <tr>\n",
       "      <th>3</th>\n",
       "      <td>Bulk Buy Salmon Side</td>\n",
       "      <td>Origin: Australia</td>\n",
       "      <td>Wholesale salmon side through bulk buy is perf...</td>\n",
       "      <td>Fish - Fillets, Cutlets &amp; Tails</td>\n",
       "    </tr>\n",
       "    <tr>\n",
       "      <th>4</th>\n",
       "      <td>Ora King Salmon Side</td>\n",
       "      <td>Origin: New Zealand</td>\n",
       "      <td>This King Salmon from New Zealand is regarded ...</td>\n",
       "      <td>Fish - Fillets, Cutlets &amp; Tails</td>\n",
       "    </tr>\n",
       "    <tr>\n",
       "      <th>...</th>\n",
       "      <td>...</td>\n",
       "      <td>...</td>\n",
       "      <td>...</td>\n",
       "      <td>...</td>\n",
       "    </tr>\n",
       "    <tr>\n",
       "      <th>434</th>\n",
       "      <td>Hiramasa Kingfish Fillets</td>\n",
       "      <td>Origin: Australia</td>\n",
       "      <td>By far the premium name in Kingfish is Hiramas...</td>\n",
       "      <td>Manettas Weekly Specials</td>\n",
       "    </tr>\n",
       "    <tr>\n",
       "      <th>435</th>\n",
       "      <td>Hiramasa Kingfish Side Frozen</td>\n",
       "      <td>Origin: Australia</td>\n",
       "      <td>Also known as yellowtail kingfish, this is a v...</td>\n",
       "      <td>Manettas Weekly Specials</td>\n",
       "    </tr>\n",
       "    <tr>\n",
       "      <th>436</th>\n",
       "      <td>Portoro Scotch Fillets MB4+ (2 x 300g)</td>\n",
       "      <td>Origin: Australia</td>\n",
       "      <td>Indulge in this exquisite Portoro Scotch Fille...</td>\n",
       "      <td>Manettas Weekly Specials</td>\n",
       "    </tr>\n",
       "    <tr>\n",
       "      <th>437</th>\n",
       "      <td>T-Bone (2 x 400g)</td>\n",
       "      <td>Origin: Australia</td>\n",
       "      <td>T-Bone (2 x 400g) is a premium cut of meat wit...</td>\n",
       "      <td>Manettas Weekly Specials</td>\n",
       "    </tr>\n",
       "    <tr>\n",
       "      <th>438</th>\n",
       "      <td>In The Roundhouse Lobster Platter</td>\n",
       "      <td>Origin: Australia</td>\n",
       "      <td>Grab yourself a In the Roundhouse lobster plat...</td>\n",
       "      <td>Manettas Weekly Specials</td>\n",
       "    </tr>\n",
       "  </tbody>\n",
       "</table>\n",
       "<p>439 rows × 4 columns</p>\n",
       "</div>"
      ],
      "text/plain": [
       "                                nama_produk                  asal_produk  \\\n",
       "0                 Salmon Fillets (2 x 180g)  Origin: Tasmania, Australia   \n",
       "1                  Bulk Buy Salmon Portions            Origin: Australia   \n",
       "2                     Tasmanian Salmon Side  Origin: Tasmania, Australia   \n",
       "3                      Bulk Buy Salmon Side            Origin: Australia   \n",
       "4                      Ora King Salmon Side          Origin: New Zealand   \n",
       "..                                      ...                          ...   \n",
       "434               Hiramasa Kingfish Fillets            Origin: Australia   \n",
       "435           Hiramasa Kingfish Side Frozen            Origin: Australia   \n",
       "436  Portoro Scotch Fillets MB4+ (2 x 300g)            Origin: Australia   \n",
       "437                       T-Bone (2 x 400g)            Origin: Australia   \n",
       "438       In The Roundhouse Lobster Platter            Origin: Australia   \n",
       "\n",
       "                                             deskripsi  \\\n",
       "0    Catch salmon fillet in Tasmania's cold waters....   \n",
       "1    Wholesale Salmon Portions are perfect for eith...   \n",
       "2    Tasmanian Salmon Side is a diverse fish in the...   \n",
       "3    Wholesale salmon side through bulk buy is perf...   \n",
       "4    This King Salmon from New Zealand is regarded ...   \n",
       "..                                                 ...   \n",
       "434  By far the premium name in Kingfish is Hiramas...   \n",
       "435  Also known as yellowtail kingfish, this is a v...   \n",
       "436  Indulge in this exquisite Portoro Scotch Fille...   \n",
       "437  T-Bone (2 x 400g) is a premium cut of meat wit...   \n",
       "438  Grab yourself a In the Roundhouse lobster plat...   \n",
       "\n",
       "                            kategori  \n",
       "0    Fish - Fillets, Cutlets & Tails  \n",
       "1    Fish - Fillets, Cutlets & Tails  \n",
       "2    Fish - Fillets, Cutlets & Tails  \n",
       "3    Fish - Fillets, Cutlets & Tails  \n",
       "4    Fish - Fillets, Cutlets & Tails  \n",
       "..                               ...  \n",
       "434         Manettas Weekly Specials  \n",
       "435         Manettas Weekly Specials  \n",
       "436         Manettas Weekly Specials  \n",
       "437         Manettas Weekly Specials  \n",
       "438         Manettas Weekly Specials  \n",
       "\n",
       "[439 rows x 4 columns]"
      ]
     },
     "execution_count": 7,
     "metadata": {},
     "output_type": "execute_result"
    }
   ],
   "source": [
    "df2"
   ]
  },
  {
   "cell_type": "code",
   "execution_count": 8,
   "id": "f601ea37",
   "metadata": {},
   "outputs": [
    {
     "data": {
      "text/plain": [
       "nama_produk     0\n",
       "asal_produk    11\n",
       "deskripsi       0\n",
       "kategori        0\n",
       "dtype: int64"
      ]
     },
     "execution_count": 8,
     "metadata": {},
     "output_type": "execute_result"
    }
   ],
   "source": [
    "df2.isnull().sum()"
   ]
  },
  {
   "cell_type": "code",
   "execution_count": 9,
   "id": "9ebf189a",
   "metadata": {},
   "outputs": [
    {
     "data": {
      "text/plain": [
       "0"
      ]
     },
     "execution_count": 9,
     "metadata": {},
     "output_type": "execute_result"
    }
   ],
   "source": [
    "df2.duplicated().sum()"
   ]
  },
  {
   "cell_type": "code",
   "execution_count": 10,
   "id": "86f9886d",
   "metadata": {},
   "outputs": [],
   "source": [
    "df2 = df2.dropna()"
   ]
  },
  {
   "cell_type": "code",
   "execution_count": 11,
   "id": "3082ab51",
   "metadata": {},
   "outputs": [],
   "source": [
    "df2['asal_produk'] = df2['asal_produk'].str.replace('Origin: ', '')"
   ]
  },
  {
   "cell_type": "code",
   "execution_count": 12,
   "id": "ec651720",
   "metadata": {},
   "outputs": [],
   "source": [
    "df2['asal_produk'] = df2['asal_produk'].str.replace('', '')"
   ]
  },
  {
   "cell_type": "code",
   "execution_count": 13,
   "id": "9caa1d2a",
   "metadata": {},
   "outputs": [],
   "source": [
    "df2['asal_produk'] = df2['asal_produk'].apply(lambda x: x.split())"
   ]
  },
  {
   "cell_type": "code",
   "execution_count": 14,
   "id": "10306410",
   "metadata": {},
   "outputs": [],
   "source": [
    "df2['deskripsi']   = df2['deskripsi'].apply(lambda x: x.split())"
   ]
  },
  {
   "cell_type": "code",
   "execution_count": 15,
   "id": "14674038",
   "metadata": {},
   "outputs": [],
   "source": [
    "df2['kategori']    = df2['kategori'].apply(lambda x: x.split())"
   ]
  },
  {
   "cell_type": "code",
   "execution_count": 16,
   "id": "b2ab356e",
   "metadata": {},
   "outputs": [],
   "source": [
    "df2['tags']        = df2['asal_produk'] + df2['deskripsi'] + df2['kategori']"
   ]
  },
  {
   "cell_type": "code",
   "execution_count": 17,
   "id": "40504ebd",
   "metadata": {},
   "outputs": [
    {
     "data": {
      "text/html": [
       "<div>\n",
       "<style scoped>\n",
       "    .dataframe tbody tr th:only-of-type {\n",
       "        vertical-align: middle;\n",
       "    }\n",
       "\n",
       "    .dataframe tbody tr th {\n",
       "        vertical-align: top;\n",
       "    }\n",
       "\n",
       "    .dataframe thead th {\n",
       "        text-align: right;\n",
       "    }\n",
       "</style>\n",
       "<table border=\"1\" class=\"dataframe\">\n",
       "  <thead>\n",
       "    <tr style=\"text-align: right;\">\n",
       "      <th></th>\n",
       "      <th>nama_produk</th>\n",
       "      <th>asal_produk</th>\n",
       "      <th>deskripsi</th>\n",
       "      <th>kategori</th>\n",
       "      <th>tags</th>\n",
       "    </tr>\n",
       "  </thead>\n",
       "  <tbody>\n",
       "    <tr>\n",
       "      <th>0</th>\n",
       "      <td>Salmon Fillets (2 x 180g)</td>\n",
       "      <td>[Tasmania,, Australia]</td>\n",
       "      <td>[Catch, salmon, fillet, in, Tasmania's, cold, ...</td>\n",
       "      <td>[Fish, -, Fillets,, Cutlets, &amp;, Tails]</td>\n",
       "      <td>[Tasmania,, Australia, Catch, salmon, fillet, ...</td>\n",
       "    </tr>\n",
       "    <tr>\n",
       "      <th>1</th>\n",
       "      <td>Bulk Buy Salmon Portions</td>\n",
       "      <td>[Australia]</td>\n",
       "      <td>[Wholesale, Salmon, Portions, are, perfect, fo...</td>\n",
       "      <td>[Fish, -, Fillets,, Cutlets, &amp;, Tails]</td>\n",
       "      <td>[Australia, Wholesale, Salmon, Portions, are, ...</td>\n",
       "    </tr>\n",
       "    <tr>\n",
       "      <th>2</th>\n",
       "      <td>Tasmanian Salmon Side</td>\n",
       "      <td>[Tasmania,, Australia]</td>\n",
       "      <td>[Tasmanian, Salmon, Side, is, a, diverse, fish...</td>\n",
       "      <td>[Fish, -, Fillets,, Cutlets, &amp;, Tails]</td>\n",
       "      <td>[Tasmania,, Australia, Tasmanian, Salmon, Side...</td>\n",
       "    </tr>\n",
       "    <tr>\n",
       "      <th>3</th>\n",
       "      <td>Bulk Buy Salmon Side</td>\n",
       "      <td>[Australia]</td>\n",
       "      <td>[Wholesale, salmon, side, through, bulk, buy, ...</td>\n",
       "      <td>[Fish, -, Fillets,, Cutlets, &amp;, Tails]</td>\n",
       "      <td>[Australia, Wholesale, salmon, side, through, ...</td>\n",
       "    </tr>\n",
       "    <tr>\n",
       "      <th>4</th>\n",
       "      <td>Ora King Salmon Side</td>\n",
       "      <td>[New, Zealand]</td>\n",
       "      <td>[This, King, Salmon, from, New, Zealand, is, r...</td>\n",
       "      <td>[Fish, -, Fillets,, Cutlets, &amp;, Tails]</td>\n",
       "      <td>[New, Zealand, This, King, Salmon, from, New, ...</td>\n",
       "    </tr>\n",
       "    <tr>\n",
       "      <th>...</th>\n",
       "      <td>...</td>\n",
       "      <td>...</td>\n",
       "      <td>...</td>\n",
       "      <td>...</td>\n",
       "      <td>...</td>\n",
       "    </tr>\n",
       "    <tr>\n",
       "      <th>434</th>\n",
       "      <td>Hiramasa Kingfish Fillets</td>\n",
       "      <td>[Australia]</td>\n",
       "      <td>[By, far, the, premium, name, in, Kingfish, is...</td>\n",
       "      <td>[Manettas, Weekly, Specials]</td>\n",
       "      <td>[Australia, By, far, the, premium, name, in, K...</td>\n",
       "    </tr>\n",
       "    <tr>\n",
       "      <th>435</th>\n",
       "      <td>Hiramasa Kingfish Side Frozen</td>\n",
       "      <td>[Australia]</td>\n",
       "      <td>[Also, known, as, yellowtail, kingfish,, this,...</td>\n",
       "      <td>[Manettas, Weekly, Specials]</td>\n",
       "      <td>[Australia, Also, known, as, yellowtail, kingf...</td>\n",
       "    </tr>\n",
       "    <tr>\n",
       "      <th>436</th>\n",
       "      <td>Portoro Scotch Fillets MB4+ (2 x 300g)</td>\n",
       "      <td>[Australia]</td>\n",
       "      <td>[Indulge, in, this, exquisite, Portoro, Scotch...</td>\n",
       "      <td>[Manettas, Weekly, Specials]</td>\n",
       "      <td>[Australia, Indulge, in, this, exquisite, Port...</td>\n",
       "    </tr>\n",
       "    <tr>\n",
       "      <th>437</th>\n",
       "      <td>T-Bone (2 x 400g)</td>\n",
       "      <td>[Australia]</td>\n",
       "      <td>[T-Bone, (2, x, 400g), is, a, premium, cut, of...</td>\n",
       "      <td>[Manettas, Weekly, Specials]</td>\n",
       "      <td>[Australia, T-Bone, (2, x, 400g), is, a, premi...</td>\n",
       "    </tr>\n",
       "    <tr>\n",
       "      <th>438</th>\n",
       "      <td>In The Roundhouse Lobster Platter</td>\n",
       "      <td>[Australia]</td>\n",
       "      <td>[Grab, yourself, a, In, the, Roundhouse, lobst...</td>\n",
       "      <td>[Manettas, Weekly, Specials]</td>\n",
       "      <td>[Australia, Grab, yourself, a, In, the, Roundh...</td>\n",
       "    </tr>\n",
       "  </tbody>\n",
       "</table>\n",
       "<p>428 rows × 5 columns</p>\n",
       "</div>"
      ],
      "text/plain": [
       "                                nama_produk             asal_produk  \\\n",
       "0                 Salmon Fillets (2 x 180g)  [Tasmania,, Australia]   \n",
       "1                  Bulk Buy Salmon Portions             [Australia]   \n",
       "2                     Tasmanian Salmon Side  [Tasmania,, Australia]   \n",
       "3                      Bulk Buy Salmon Side             [Australia]   \n",
       "4                      Ora King Salmon Side          [New, Zealand]   \n",
       "..                                      ...                     ...   \n",
       "434               Hiramasa Kingfish Fillets             [Australia]   \n",
       "435           Hiramasa Kingfish Side Frozen             [Australia]   \n",
       "436  Portoro Scotch Fillets MB4+ (2 x 300g)             [Australia]   \n",
       "437                       T-Bone (2 x 400g)             [Australia]   \n",
       "438       In The Roundhouse Lobster Platter             [Australia]   \n",
       "\n",
       "                                             deskripsi  \\\n",
       "0    [Catch, salmon, fillet, in, Tasmania's, cold, ...   \n",
       "1    [Wholesale, Salmon, Portions, are, perfect, fo...   \n",
       "2    [Tasmanian, Salmon, Side, is, a, diverse, fish...   \n",
       "3    [Wholesale, salmon, side, through, bulk, buy, ...   \n",
       "4    [This, King, Salmon, from, New, Zealand, is, r...   \n",
       "..                                                 ...   \n",
       "434  [By, far, the, premium, name, in, Kingfish, is...   \n",
       "435  [Also, known, as, yellowtail, kingfish,, this,...   \n",
       "436  [Indulge, in, this, exquisite, Portoro, Scotch...   \n",
       "437  [T-Bone, (2, x, 400g), is, a, premium, cut, of...   \n",
       "438  [Grab, yourself, a, In, the, Roundhouse, lobst...   \n",
       "\n",
       "                                   kategori  \\\n",
       "0    [Fish, -, Fillets,, Cutlets, &, Tails]   \n",
       "1    [Fish, -, Fillets,, Cutlets, &, Tails]   \n",
       "2    [Fish, -, Fillets,, Cutlets, &, Tails]   \n",
       "3    [Fish, -, Fillets,, Cutlets, &, Tails]   \n",
       "4    [Fish, -, Fillets,, Cutlets, &, Tails]   \n",
       "..                                      ...   \n",
       "434            [Manettas, Weekly, Specials]   \n",
       "435            [Manettas, Weekly, Specials]   \n",
       "436            [Manettas, Weekly, Specials]   \n",
       "437            [Manettas, Weekly, Specials]   \n",
       "438            [Manettas, Weekly, Specials]   \n",
       "\n",
       "                                                  tags  \n",
       "0    [Tasmania,, Australia, Catch, salmon, fillet, ...  \n",
       "1    [Australia, Wholesale, Salmon, Portions, are, ...  \n",
       "2    [Tasmania,, Australia, Tasmanian, Salmon, Side...  \n",
       "3    [Australia, Wholesale, salmon, side, through, ...  \n",
       "4    [New, Zealand, This, King, Salmon, from, New, ...  \n",
       "..                                                 ...  \n",
       "434  [Australia, By, far, the, premium, name, in, K...  \n",
       "435  [Australia, Also, known, as, yellowtail, kingf...  \n",
       "436  [Australia, Indulge, in, this, exquisite, Port...  \n",
       "437  [Australia, T-Bone, (2, x, 400g), is, a, premi...  \n",
       "438  [Australia, Grab, yourself, a, In, the, Roundh...  \n",
       "\n",
       "[428 rows x 5 columns]"
      ]
     },
     "execution_count": 17,
     "metadata": {},
     "output_type": "execute_result"
    }
   ],
   "source": [
    "df2"
   ]
  },
  {
   "cell_type": "code",
   "execution_count": 18,
   "id": "7e6c62a6",
   "metadata": {},
   "outputs": [],
   "source": [
    "df_baru = df2[['nama_produk', 'tags']]"
   ]
  },
  {
   "cell_type": "code",
   "execution_count": 19,
   "id": "4060a31f",
   "metadata": {},
   "outputs": [
    {
     "data": {
      "text/html": [
       "<div>\n",
       "<style scoped>\n",
       "    .dataframe tbody tr th:only-of-type {\n",
       "        vertical-align: middle;\n",
       "    }\n",
       "\n",
       "    .dataframe tbody tr th {\n",
       "        vertical-align: top;\n",
       "    }\n",
       "\n",
       "    .dataframe thead th {\n",
       "        text-align: right;\n",
       "    }\n",
       "</style>\n",
       "<table border=\"1\" class=\"dataframe\">\n",
       "  <thead>\n",
       "    <tr style=\"text-align: right;\">\n",
       "      <th></th>\n",
       "      <th>nama_produk</th>\n",
       "      <th>tags</th>\n",
       "    </tr>\n",
       "  </thead>\n",
       "  <tbody>\n",
       "    <tr>\n",
       "      <th>0</th>\n",
       "      <td>Salmon Fillets (2 x 180g)</td>\n",
       "      <td>[Tasmania,, Australia, Catch, salmon, fillet, ...</td>\n",
       "    </tr>\n",
       "    <tr>\n",
       "      <th>1</th>\n",
       "      <td>Bulk Buy Salmon Portions</td>\n",
       "      <td>[Australia, Wholesale, Salmon, Portions, are, ...</td>\n",
       "    </tr>\n",
       "    <tr>\n",
       "      <th>2</th>\n",
       "      <td>Tasmanian Salmon Side</td>\n",
       "      <td>[Tasmania,, Australia, Tasmanian, Salmon, Side...</td>\n",
       "    </tr>\n",
       "    <tr>\n",
       "      <th>3</th>\n",
       "      <td>Bulk Buy Salmon Side</td>\n",
       "      <td>[Australia, Wholesale, salmon, side, through, ...</td>\n",
       "    </tr>\n",
       "    <tr>\n",
       "      <th>4</th>\n",
       "      <td>Ora King Salmon Side</td>\n",
       "      <td>[New, Zealand, This, King, Salmon, from, New, ...</td>\n",
       "    </tr>\n",
       "    <tr>\n",
       "      <th>...</th>\n",
       "      <td>...</td>\n",
       "      <td>...</td>\n",
       "    </tr>\n",
       "    <tr>\n",
       "      <th>434</th>\n",
       "      <td>Hiramasa Kingfish Fillets</td>\n",
       "      <td>[Australia, By, far, the, premium, name, in, K...</td>\n",
       "    </tr>\n",
       "    <tr>\n",
       "      <th>435</th>\n",
       "      <td>Hiramasa Kingfish Side Frozen</td>\n",
       "      <td>[Australia, Also, known, as, yellowtail, kingf...</td>\n",
       "    </tr>\n",
       "    <tr>\n",
       "      <th>436</th>\n",
       "      <td>Portoro Scotch Fillets MB4+ (2 x 300g)</td>\n",
       "      <td>[Australia, Indulge, in, this, exquisite, Port...</td>\n",
       "    </tr>\n",
       "    <tr>\n",
       "      <th>437</th>\n",
       "      <td>T-Bone (2 x 400g)</td>\n",
       "      <td>[Australia, T-Bone, (2, x, 400g), is, a, premi...</td>\n",
       "    </tr>\n",
       "    <tr>\n",
       "      <th>438</th>\n",
       "      <td>In The Roundhouse Lobster Platter</td>\n",
       "      <td>[Australia, Grab, yourself, a, In, the, Roundh...</td>\n",
       "    </tr>\n",
       "  </tbody>\n",
       "</table>\n",
       "<p>428 rows × 2 columns</p>\n",
       "</div>"
      ],
      "text/plain": [
       "                                nama_produk  \\\n",
       "0                 Salmon Fillets (2 x 180g)   \n",
       "1                  Bulk Buy Salmon Portions   \n",
       "2                     Tasmanian Salmon Side   \n",
       "3                      Bulk Buy Salmon Side   \n",
       "4                      Ora King Salmon Side   \n",
       "..                                      ...   \n",
       "434               Hiramasa Kingfish Fillets   \n",
       "435           Hiramasa Kingfish Side Frozen   \n",
       "436  Portoro Scotch Fillets MB4+ (2 x 300g)   \n",
       "437                       T-Bone (2 x 400g)   \n",
       "438       In The Roundhouse Lobster Platter   \n",
       "\n",
       "                                                  tags  \n",
       "0    [Tasmania,, Australia, Catch, salmon, fillet, ...  \n",
       "1    [Australia, Wholesale, Salmon, Portions, are, ...  \n",
       "2    [Tasmania,, Australia, Tasmanian, Salmon, Side...  \n",
       "3    [Australia, Wholesale, salmon, side, through, ...  \n",
       "4    [New, Zealand, This, King, Salmon, from, New, ...  \n",
       "..                                                 ...  \n",
       "434  [Australia, By, far, the, premium, name, in, K...  \n",
       "435  [Australia, Also, known, as, yellowtail, kingf...  \n",
       "436  [Australia, Indulge, in, this, exquisite, Port...  \n",
       "437  [Australia, T-Bone, (2, x, 400g), is, a, premi...  \n",
       "438  [Australia, Grab, yourself, a, In, the, Roundh...  \n",
       "\n",
       "[428 rows x 2 columns]"
      ]
     },
     "execution_count": 19,
     "metadata": {},
     "output_type": "execute_result"
    }
   ],
   "source": [
    "df_baru"
   ]
  },
  {
   "cell_type": "code",
   "execution_count": 20,
   "id": "d35f3855",
   "metadata": {},
   "outputs": [],
   "source": [
    "df_baru['tags'] = df_baru['tags'].apply(lambda x: \" \".join(x))"
   ]
  },
  {
   "cell_type": "code",
   "execution_count": 21,
   "id": "8b242d34",
   "metadata": {},
   "outputs": [
    {
     "data": {
      "text/html": [
       "<div>\n",
       "<style scoped>\n",
       "    .dataframe tbody tr th:only-of-type {\n",
       "        vertical-align: middle;\n",
       "    }\n",
       "\n",
       "    .dataframe tbody tr th {\n",
       "        vertical-align: top;\n",
       "    }\n",
       "\n",
       "    .dataframe thead th {\n",
       "        text-align: right;\n",
       "    }\n",
       "</style>\n",
       "<table border=\"1\" class=\"dataframe\">\n",
       "  <thead>\n",
       "    <tr style=\"text-align: right;\">\n",
       "      <th></th>\n",
       "      <th>nama_produk</th>\n",
       "      <th>tags</th>\n",
       "    </tr>\n",
       "  </thead>\n",
       "  <tbody>\n",
       "    <tr>\n",
       "      <th>0</th>\n",
       "      <td>Salmon Fillets (2 x 180g)</td>\n",
       "      <td>Tasmania, Australia Catch salmon fillet in Tas...</td>\n",
       "    </tr>\n",
       "    <tr>\n",
       "      <th>1</th>\n",
       "      <td>Bulk Buy Salmon Portions</td>\n",
       "      <td>Australia Wholesale Salmon Portions are perfec...</td>\n",
       "    </tr>\n",
       "    <tr>\n",
       "      <th>2</th>\n",
       "      <td>Tasmanian Salmon Side</td>\n",
       "      <td>Tasmania, Australia Tasmanian Salmon Side is a...</td>\n",
       "    </tr>\n",
       "    <tr>\n",
       "      <th>3</th>\n",
       "      <td>Bulk Buy Salmon Side</td>\n",
       "      <td>Australia Wholesale salmon side through bulk b...</td>\n",
       "    </tr>\n",
       "    <tr>\n",
       "      <th>4</th>\n",
       "      <td>Ora King Salmon Side</td>\n",
       "      <td>New Zealand This King Salmon from New Zealand ...</td>\n",
       "    </tr>\n",
       "    <tr>\n",
       "      <th>...</th>\n",
       "      <td>...</td>\n",
       "      <td>...</td>\n",
       "    </tr>\n",
       "    <tr>\n",
       "      <th>434</th>\n",
       "      <td>Hiramasa Kingfish Fillets</td>\n",
       "      <td>Australia By far the premium name in Kingfish ...</td>\n",
       "    </tr>\n",
       "    <tr>\n",
       "      <th>435</th>\n",
       "      <td>Hiramasa Kingfish Side Frozen</td>\n",
       "      <td>Australia Also known as yellowtail kingfish, t...</td>\n",
       "    </tr>\n",
       "    <tr>\n",
       "      <th>436</th>\n",
       "      <td>Portoro Scotch Fillets MB4+ (2 x 300g)</td>\n",
       "      <td>Australia Indulge in this exquisite Portoro Sc...</td>\n",
       "    </tr>\n",
       "    <tr>\n",
       "      <th>437</th>\n",
       "      <td>T-Bone (2 x 400g)</td>\n",
       "      <td>Australia T-Bone (2 x 400g) is a premium cut o...</td>\n",
       "    </tr>\n",
       "    <tr>\n",
       "      <th>438</th>\n",
       "      <td>In The Roundhouse Lobster Platter</td>\n",
       "      <td>Australia Grab yourself a In the Roundhouse lo...</td>\n",
       "    </tr>\n",
       "  </tbody>\n",
       "</table>\n",
       "<p>428 rows × 2 columns</p>\n",
       "</div>"
      ],
      "text/plain": [
       "                                nama_produk  \\\n",
       "0                 Salmon Fillets (2 x 180g)   \n",
       "1                  Bulk Buy Salmon Portions   \n",
       "2                     Tasmanian Salmon Side   \n",
       "3                      Bulk Buy Salmon Side   \n",
       "4                      Ora King Salmon Side   \n",
       "..                                      ...   \n",
       "434               Hiramasa Kingfish Fillets   \n",
       "435           Hiramasa Kingfish Side Frozen   \n",
       "436  Portoro Scotch Fillets MB4+ (2 x 300g)   \n",
       "437                       T-Bone (2 x 400g)   \n",
       "438       In The Roundhouse Lobster Platter   \n",
       "\n",
       "                                                  tags  \n",
       "0    Tasmania, Australia Catch salmon fillet in Tas...  \n",
       "1    Australia Wholesale Salmon Portions are perfec...  \n",
       "2    Tasmania, Australia Tasmanian Salmon Side is a...  \n",
       "3    Australia Wholesale salmon side through bulk b...  \n",
       "4    New Zealand This King Salmon from New Zealand ...  \n",
       "..                                                 ...  \n",
       "434  Australia By far the premium name in Kingfish ...  \n",
       "435  Australia Also known as yellowtail kingfish, t...  \n",
       "436  Australia Indulge in this exquisite Portoro Sc...  \n",
       "437  Australia T-Bone (2 x 400g) is a premium cut o...  \n",
       "438  Australia Grab yourself a In the Roundhouse lo...  \n",
       "\n",
       "[428 rows x 2 columns]"
      ]
     },
     "execution_count": 21,
     "metadata": {},
     "output_type": "execute_result"
    }
   ],
   "source": [
    "df_baru"
   ]
  },
  {
   "cell_type": "markdown",
   "id": "ef27a005",
   "metadata": {},
   "source": [
    "### Stemming\n",
    "Stemming adalah proses menghilangkan afiks (awalan, akhiran, dan infiks) dari kata untuk menghasilkan bentuk dasarnya, yang disebut \"kata dasar\" atau \"kata dasar\". Tujuannya adalah untuk mengonversi kata-kata yang berbeda tetapi memiliki akar yang sama menjadi bentuk dasar yang seragam. Contohnya, kata-kata \"berlari\", \"berlari\", dan \"berlari\" semuanya akan diubah menjadi \"lari\" setelah proses stemming."
   ]
  },
  {
   "cell_type": "code",
   "execution_count": 22,
   "id": "9b49e16d",
   "metadata": {},
   "outputs": [],
   "source": [
    "ps = PorterStemmer()"
   ]
  },
  {
   "cell_type": "code",
   "execution_count": 23,
   "id": "b1d56701",
   "metadata": {},
   "outputs": [],
   "source": [
    "def stem(teks):\n",
    "    y = []\n",
    "    \n",
    "    for i in teks.split():\n",
    "        \n",
    "        y.append(ps.stem(i))\n",
    "        \n",
    "    return \" \".join(y)"
   ]
  },
  {
   "cell_type": "code",
   "execution_count": 24,
   "id": "5a3cf5df",
   "metadata": {},
   "outputs": [],
   "source": [
    "df_baru['tags'] = df_baru['tags'].apply(stem)"
   ]
  },
  {
   "cell_type": "code",
   "execution_count": 25,
   "id": "a4a92b34",
   "metadata": {},
   "outputs": [
    {
     "data": {
      "text/plain": [
       "\"tasmania, australia catch salmon fillet in tasmania' cold waters. these are the finest australian salmon fillet in the market. all tasmanian salmon is complet sustainable. salmon (in particular tasmanian salmon) is one of the healthiest meal you can prepare. fresh seafood onlin that deliv direct from the sydney fish market. buy salmon fillet onlin today, learn how to cook salmon fillets, work out how to achiev that crispi skin salmon, and look at the best sauc for salmon fillet. thi is the fresh seafood onlin that delivers.how do my tasmanian salmon fillet come:each pack contain 2 x 180g filletsal fresh fillet are skin onth minimum weight of 360gm at $68.00/kg in use to calcul the fix pricew to learn how to cook salmon fillets, how to get the crispi skin salmon or even best sauc for salmon fillet.click here to learn how to cook fish fillets.view our crispi skin salmon recip here. fish - fillets, cutlet & tail\""
      ]
     },
     "execution_count": 25,
     "metadata": {},
     "output_type": "execute_result"
    }
   ],
   "source": [
    "df_baru['tags'][0]"
   ]
  },
  {
   "cell_type": "code",
   "execution_count": 26,
   "id": "ed8f6753",
   "metadata": {},
   "outputs": [],
   "source": [
    "# lowercase dulu untuk mastiin aja\n",
    "df_baru['tags'] = df_baru['tags'].apply(lambda x: x.lower())"
   ]
  },
  {
   "cell_type": "code",
   "execution_count": 27,
   "id": "9447f76b",
   "metadata": {},
   "outputs": [
    {
     "data": {
      "text/plain": [
       "'australia wholesal salmon portion are perfect for either a larg get together, a restaurant, a hotel or for you as a caterer. order salmon with manetta seafood market and allow us to hand pick the fish from the best farm across the country. we are the freshest supplier of seafood from boat to your door. order fresh seafood onlin today and have it deliv to your door with manetta seafood market. deliveri in sydney is 7 day per week, so never go without your favourit fish. for wholesal seafood check out ourmanetta wholesal platformhow do my bulk buy wholesal salmon portion come:approxim 180g per portionskin on fish - fillets, cutlet & tail'"
      ]
     },
     "execution_count": 27,
     "metadata": {},
     "output_type": "execute_result"
    }
   ],
   "source": [
    "df_baru['tags'][1]"
   ]
  },
  {
   "cell_type": "markdown",
   "id": "163750f2",
   "metadata": {},
   "source": [
    "### Vector Representation dengan Count Vectorizer\n",
    "mengubah teks menjadi representasi numerik yang dapat dimengerti oleh model mesin"
   ]
  },
  {
   "cell_type": "code",
   "execution_count": 28,
   "id": "cabfbdc9",
   "metadata": {},
   "outputs": [
    {
     "data": {
      "application/javascript": [
       "\n",
       "        if (window._pyforest_update_imports_cell) { window._pyforest_update_imports_cell('from sklearn.feature_extraction.text import CountVectorizer\\nimport pandas as pd'); }\n",
       "    "
      ],
      "text/plain": [
       "<IPython.core.display.Javascript object>"
      ]
     },
     "metadata": {},
     "output_type": "display_data"
    }
   ],
   "source": [
    "cv     = CountVectorizer(max_features=5000, stop_words='english')"
   ]
  },
  {
   "cell_type": "markdown",
   "id": "4f8c506d",
   "metadata": {},
   "source": [
    "seperti biasa, mencoba 5000 fitur terlebih dahulu tergantun kapabilitas/"
   ]
  },
  {
   "cell_type": "code",
   "execution_count": 29,
   "id": "6bacb8cb",
   "metadata": {},
   "outputs": [],
   "source": [
    "vektor = cv.fit_transform(df_baru['tags']).toarray()"
   ]
  },
  {
   "cell_type": "code",
   "execution_count": 30,
   "id": "e10af4e5",
   "metadata": {},
   "outputs": [
    {
     "data": {
      "text/plain": [
       "array([[1, 0, 0, ..., 0, 0, 0],\n",
       "       [0, 0, 0, ..., 0, 0, 0],\n",
       "       [0, 0, 0, ..., 0, 0, 0],\n",
       "       ...,\n",
       "       [0, 0, 0, ..., 0, 0, 0],\n",
       "       [0, 0, 0, ..., 0, 0, 0],\n",
       "       [0, 0, 0, ..., 0, 0, 0]], dtype=int64)"
      ]
     },
     "execution_count": 30,
     "metadata": {},
     "output_type": "execute_result"
    }
   ],
   "source": [
    "vektor"
   ]
  },
  {
   "cell_type": "code",
   "execution_count": 31,
   "id": "0bba52fd",
   "metadata": {},
   "outputs": [
    {
     "data": {
      "text/plain": [
       "array([1, 0, 0, ..., 0, 0, 0], dtype=int64)"
      ]
     },
     "execution_count": 31,
     "metadata": {},
     "output_type": "execute_result"
    }
   ],
   "source": [
    "vektor[0]"
   ]
  },
  {
   "cell_type": "code",
   "execution_count": 32,
   "id": "b64dcd38",
   "metadata": {},
   "outputs": [
    {
     "data": {
      "text/plain": [
       "array(['00', '0kgpack', '10', ..., 'zest', 'zesti', 'zingy'], dtype=object)"
      ]
     },
     "execution_count": 32,
     "metadata": {},
     "output_type": "execute_result"
    }
   ],
   "source": [
    "cv.get_feature_names_out()"
   ]
  },
  {
   "cell_type": "markdown",
   "id": "68500944",
   "metadata": {},
   "source": [
    "### Kemiripan\n",
    "cosine similarity itu untuk mengukur seberapa mirip dua vektor berada dalam ruang multidimensi array.\n",
    "\n",
    "Setiap dimensi dalam vektor mewakili kata atau fitur tertentu, dan nilai dalam dimensi tersebut menunjukkan seberapa sering kata tersebut muncul dalam teks. Cosine Similarity mengukur sudut kosinus antara dua vektor. Semakin dekat sudut antara dua vektor, semakin mirip (atau serupa) kedua vektor tersebut. Nilai Cosine Similarity berkisar antara -1 hingga 1, di mana 1 menunjukkan kesamaan sempurna, 0 menunjukkan ketidaksamaan, dan -1 menunjukkan ketidaksamaan sempurna."
   ]
  },
  {
   "cell_type": "code",
   "execution_count": 33,
   "id": "04656a22",
   "metadata": {},
   "outputs": [
    {
     "data": {
      "text/plain": [
       "(428, 428)"
      ]
     },
     "execution_count": 33,
     "metadata": {},
     "output_type": "execute_result"
    }
   ],
   "source": [
    "cosine_similarity(vektor).shape"
   ]
  },
  {
   "cell_type": "code",
   "execution_count": 34,
   "id": "0a25583b",
   "metadata": {},
   "outputs": [],
   "source": [
    "kesamaan = cosine_similarity(vektor)"
   ]
  },
  {
   "cell_type": "code",
   "execution_count": 35,
   "id": "7bc3b5eb",
   "metadata": {
    "scrolled": true
   },
   "outputs": [
    {
     "data": {
      "text/plain": [
       "array([1.        , 0.39948181, 0.53687872, 0.54191949, 0.47621415,\n",
       "       0.55481344, 0.36873292, 0.36433556, 0.34559738, 0.34632227,\n",
       "       0.28602759, 0.39029614, 0.37548375, 0.28995744, 0.32740805,\n",
       "       0.31154892, 0.48133629, 0.18722266, 0.15446526, 0.13078895,\n",
       "       0.21163431, 0.052484  , 0.3621458 , 0.26737175, 0.14165399,\n",
       "       0.13005917, 0.22396889, 0.26126925, 0.26157459, 0.14517994,\n",
       "       0.14657088, 0.13624274, 0.28759865, 0.16604516, 0.13005917,\n",
       "       0.16883808, 0.11492618, 0.17192455, 0.16227602, 0.3007261 ,\n",
       "       0.33283077, 0.18656751, 0.21071848, 0.23232992, 0.22344798,\n",
       "       0.26348233, 0.08888907, 0.54495396, 0.44469666, 0.1760493 ,\n",
       "       0.18398704, 0.13597095, 0.16378594, 0.15912354, 0.15353567,\n",
       "       0.16788059, 0.17548413, 0.16662473, 0.15725244, 0.17903885,\n",
       "       0.0996271 , 0.07965213, 0.11612843, 0.10874613, 0.18479353,\n",
       "       0.16765945, 0.13275355, 0.1548003 , 0.18153254, 0.20411826,\n",
       "       0.04210013, 0.09265132, 0.10649964, 0.12767576, 0.01174117,\n",
       "       0.01106968, 0.01308168, 0.03133127, 0.08717371, 0.06823953,\n",
       "       0.05887056, 0.04981355, 0.03504515, 0.05099818, 0.07778087,\n",
       "       0.06710083, 0.08185201, 0.07306241, 0.01796615, 0.02988813,\n",
       "       0.09356464, 0.06100889, 0.04345518, 0.02915117, 0.04686064,\n",
       "       0.02717552, 0.01044376, 0.03469643, 0.04197793, 0.03804573,\n",
       "       0.10567049, 0.22718473, 0.01684005, 0.06300971, 0.0743495 ,\n",
       "       0.10514607, 0.06401793, 0.08465372, 0.07215851, 0.01684005,\n",
       "       0.09502641, 0.11492564, 0.17167472, 0.12920832, 0.05297223,\n",
       "       0.01681339, 0.0862796 , 0.05467747, 0.14365442, 0.0648603 ,\n",
       "       0.10620284, 0.09790431, 0.10488677, 0.07472032, 0.06337695,\n",
       "       0.06644858, 0.08930787, 0.09712651, 0.03736016, 0.10513545,\n",
       "       0.01575243, 0.10263626, 0.0446458 , 0.07564253, 0.05656577,\n",
       "       0.07144629, 0.07834014, 0.17079034, 0.0743495 , 0.03169953,\n",
       "       0.05623277, 0.04165618, 0.08056781, 0.04325027, 0.09464574,\n",
       "       0.05102377, 0.05020734, 0.12929319, 0.20577588, 0.1202974 ,\n",
       "       0.1893627 , 0.1040893 , 0.22460789, 0.01616165, 0.17446216,\n",
       "       0.09267915, 0.02790117, 0.05811581, 0.05347435, 0.1893627 ,\n",
       "       0.10513545, 0.22631596, 0.09131606, 0.01660452, 0.11739359,\n",
       "       0.22469973, 0.15815817, 0.12201778, 0.11363933, 0.13698726,\n",
       "       0.15679178, 0.29890934, 0.13655944, 0.20853707, 0.1281443 ,\n",
       "       0.04094648, 0.35426836, 0.11154108, 0.1235722 , 0.0070447 ,\n",
       "       0.11928181, 0.28109192, 0.03435792, 0.01525222, 0.19827888,\n",
       "       0.05943342, 0.01637859, 0.12242655, 0.1454158 , 0.5349224 ,\n",
       "       0.05371533, 0.10353552, 0.0656049 , 0.07227709, 0.05841156,\n",
       "       0.03924504, 0.05751973, 0.1268145 , 0.2041362 , 0.01660452,\n",
       "       0.06939287, 0.03547068, 0.10494423, 0.33645609, 0.02407829,\n",
       "       0.11024615, 0.09885776, 0.07023949, 0.08878097, 0.07660546,\n",
       "       0.08584273, 0.10567049, 0.10913602, 0.08557526, 0.08930787,\n",
       "       0.0892194 , 0.06209261, 0.0323755 , 0.04505805, 0.10650585,\n",
       "       0.07586699, 0.05619726, 0.04632566, 0.09594954, 0.06319696,\n",
       "       0.11076012, 0.0785324 , 0.07497703, 0.08650054, 0.08225143,\n",
       "       0.05193421, 0.07464746, 0.04437744, 0.04505805, 0.06996282,\n",
       "       0.0577589 , 0.04752203, 0.07774888, 0.06289815, 0.0448357 ,\n",
       "       0.02685767, 0.05084074, 0.06131624, 0.05467747, 0.07876214,\n",
       "       0.12915282, 0.08079068, 0.38979502, 0.13592942, 0.14791073,\n",
       "       0.14235407, 0.31523601, 0.13283613, 0.09885776, 0.05886755,\n",
       "       0.06641806, 0.13870336, 0.21919605, 0.13474609, 0.20189487,\n",
       "       0.1201548 , 0.23579972, 0.11121498, 0.10641205, 0.05163882,\n",
       "       0.06281372, 0.08037758, 0.09451456, 0.05368066, 0.1060857 ,\n",
       "       0.08325129, 0.11228841, 0.06277763, 0.13727   , 0.03999804,\n",
       "       0.10168148, 0.04151129, 0.13727   , 0.30980091, 0.14612482,\n",
       "       0.08557526, 0.05232671, 0.06508385, 0.09325722, 0.06088323,\n",
       "       0.06902368, 0.0302039 , 0.12951523, 0.03384164, 0.03487646,\n",
       "       0.11503946, 0.09671055, 0.03320903, 0.03099255, 0.02254953,\n",
       "       0.0432243 , 0.0404624 , 0.0446097 , 0.09509859, 0.06038314,\n",
       "       0.11562818, 0.05940612, 0.06164908, 0.10257703, 0.0934004 ,\n",
       "       0.08805874, 0.03887444, 0.05087839, 0.06710635, 0.07920338,\n",
       "       0.04042383, 0.09174768, 0.06849601, 0.09763036, 0.04144738,\n",
       "       0.01799054, 0.11779859, 0.02270712, 0.0203363 , 0.09765409,\n",
       "       0.0050578 , 0.0222773 , 0.        , 0.02270712, 0.04185175,\n",
       "       0.0422682 , 0.02684033, 0.05032976, 0.04848495, 0.06300971,\n",
       "       0.02551189, 0.0215699 , 0.05380478, 0.05052016, 0.04785931,\n",
       "       0.0222773 , 0.0222773 , 0.05032976, 0.04185175, 0.0211341 ,\n",
       "       0.02092588, 0.0215699 , 0.01343371, 0.02424247, 0.00742577,\n",
       "       0.0222773 , 0.01381579, 0.03137959, 0.01853583, 0.0076864 ,\n",
       "       0.03453948, 0.01453211, 0.03421209, 0.08980265, 0.0446458 ,\n",
       "       0.047018  , 0.07116221, 0.05102377, 0.06217107, 0.082109  ,\n",
       "       0.09392933, 0.08930787, 0.07302832, 0.04429905, 0.02915117,\n",
       "       0.04932276, 0.06849363, 0.06604406, 0.10516193, 0.03320903,\n",
       "       0.06413258, 0.08335401, 0.10923932, 0.08745352, 0.04932276,\n",
       "       0.04557897, 0.0422682 , 0.13954753, 0.08750348, 0.05936321,\n",
       "       0.13794858, 0.05389844, 0.12913561, 0.06202654, 0.13200564,\n",
       "       0.08344067, 0.0838487 , 0.06948849, 0.1831435 , 0.09157175,\n",
       "       0.09237152, 0.10065953, 0.11387388, 0.0410545 , 0.01208156,\n",
       "       0.04835527, 0.08094702, 0.077959  , 0.06502959, 0.05320602,\n",
       "       0.04625072, 0.07971111, 0.05651663, 0.08828816, 0.04659631,\n",
       "       0.03453948, 0.01485153, 0.03421209, 0.08812395, 0.0453962 ,\n",
       "       0.04789692, 0.07266053, 0.05102377, 0.0634023 , 0.01684005,\n",
       "       0.09265132, 0.1011344 , 0.10729213, 0.07748136, 0.06503569,\n",
       "       0.22760098, 0.09512255, 0.12755943, 0.22961716, 0.1124614 ,\n",
       "       0.13954753, 0.06596531, 0.01637859])"
      ]
     },
     "execution_count": 35,
     "metadata": {},
     "output_type": "execute_result"
    }
   ],
   "source": [
    "kesamaan[0]"
   ]
  },
  {
   "cell_type": "markdown",
   "id": "32732482",
   "metadata": {},
   "source": [
    "- enumerate untuk menghasilkan urutan atau no indeks\n",
    "- reverse = True itu dalam urutan yang tinggi ke terendah\n",
    "- fungsi lambda itu untuk mengurutkan daftar, jadi ambil elemen kedua (x[1]) dari stiap pasangan sebagai kunci pengurutn kita sampai 5 terats."
   ]
  },
  {
   "cell_type": "code",
   "execution_count": 36,
   "id": "5dd8c904",
   "metadata": {},
   "outputs": [
    {
     "data": {
      "text/plain": [
       "[(5, 0.554813435013022),\n",
       " (47, 0.5449539581795492),\n",
       " (3, 0.5419194910995321),\n",
       " (2, 0.5368787216615044),\n",
       " (189, 0.5349224043153104)]"
      ]
     },
     "execution_count": 36,
     "metadata": {},
     "output_type": "execute_result"
    }
   ],
   "source": [
    "# mencari top 5 menu berdasarkan suatu produk\n",
    "\n",
    "sorted(list(enumerate(kesamaan[0])), reverse=True, key=lambda x: x[1])[1:6]"
   ]
  },
  {
   "cell_type": "markdown",
   "id": "8e777280",
   "metadata": {},
   "source": [
    "Hasil kesamaan tersebut cukup baik dikarenakan pada rentang nilai 0-1, khususnya di sekitar 5,3 - 5,5. Mungkin aku bisa ningkatin jumlah top produk yang memiliki kesamaan. Namun berdasarkan try dan error, mungkin kita bisa menampilkan rekomendasi 5 atau top 6 saja."
   ]
  },
  {
   "cell_type": "code",
   "execution_count": 37,
   "id": "c0d0b021",
   "metadata": {},
   "outputs": [
    {
     "data": {
      "text/plain": [
       "[(5, 0.554813435013022),\n",
       " (47, 0.5449539581795492),\n",
       " (3, 0.5419194910995321),\n",
       " (2, 0.5368787216615044),\n",
       " (189, 0.5349224043153104),\n",
       " (16, 0.4813362872636812)]"
      ]
     },
     "execution_count": 37,
     "metadata": {},
     "output_type": "execute_result"
    }
   ],
   "source": [
    "sorted(list(enumerate(kesamaan[0])), reverse=True, key=lambda x: x[1])[1:7]"
   ]
  },
  {
   "cell_type": "code",
   "execution_count": 38,
   "id": "e38ab11f",
   "metadata": {},
   "outputs": [],
   "source": [
    "def rekomendasi_produk(produk_seafood):\n",
    "    produk_indeks      = df_baru[df_baru['nama_produk'] == produk_seafood].index[0]\n",
    "    jarak              = kesamaan[produk_indeks] # sebuah list\n",
    "    daftar_produk      = sorted(list(enumerate(jarak)), reverse=True, key=lambda x: x[1])[1:7]\n",
    "    rekomendasi_df     = pd.DataFrame(columns=['Nama Produk', 'Nilai Kesamaan'])\n",
    "    \n",
    "    for i in daftar_produk:\n",
    "        nama_produk    = df_baru.iloc[i[0]].nama_produk\n",
    "        nilai_kesamaan = i[1]\n",
    "        rekomendasi_df = pd.concat([rekomendasi_df, pd.DataFrame({'Nama Produk': [nama_produk],\n",
    "                                                                  'Nilai Kesamaan': [nilai_kesamaan]})],\n",
    "                                                                   ignore_index=True)\n",
    "    \n",
    "    return rekomendasi_df"
   ]
  },
  {
   "cell_type": "code",
   "execution_count": 39,
   "id": "99b071d1",
   "metadata": {},
   "outputs": [
    {
     "data": {
      "text/plain": [
       "'Origin: Australia'"
      ]
     },
     "execution_count": 39,
     "metadata": {},
     "output_type": "execute_result"
    }
   ],
   "source": [
    "df['asal_produk'][152]"
   ]
  },
  {
   "cell_type": "code",
   "execution_count": 40,
   "id": "346e4982",
   "metadata": {},
   "outputs": [
    {
     "data": {
      "text/plain": [
       "'Divine Seafood Platter'"
      ]
     },
     "execution_count": 40,
     "metadata": {},
     "output_type": "execute_result"
    }
   ],
   "source": [
    "df['nama_produk'][152]"
   ]
  },
  {
   "cell_type": "code",
   "execution_count": 41,
   "id": "89f3aca8",
   "metadata": {},
   "outputs": [
    {
     "data": {
      "text/plain": [
       "'$199.95 per platter'"
      ]
     },
     "execution_count": 41,
     "metadata": {},
     "output_type": "execute_result"
    }
   ],
   "source": [
    "df['harga'][152]"
   ]
  },
  {
   "cell_type": "code",
   "execution_count": 42,
   "id": "6cbf69cb",
   "metadata": {},
   "outputs": [
    {
     "data": {
      "application/javascript": [
       "\n",
       "        if (window._pyforest_update_imports_cell) { window._pyforest_update_imports_cell('from sklearn.feature_extraction.text import CountVectorizer\\nimport pandas as pd'); }\n",
       "    "
      ],
      "text/plain": [
       "<IPython.core.display.Javascript object>"
      ]
     },
     "metadata": {},
     "output_type": "display_data"
    },
    {
     "data": {
      "application/javascript": [
       "\n",
       "        if (window._pyforest_update_imports_cell) { window._pyforest_update_imports_cell('from sklearn.feature_extraction.text import CountVectorizer\\nimport pandas as pd'); }\n",
       "    "
      ],
      "text/plain": [
       "<IPython.core.display.Javascript object>"
      ]
     },
     "metadata": {},
     "output_type": "display_data"
    },
    {
     "data": {
      "application/javascript": [
       "\n",
       "        if (window._pyforest_update_imports_cell) { window._pyforest_update_imports_cell('from sklearn.feature_extraction.text import CountVectorizer\\nimport pandas as pd'); }\n",
       "    "
      ],
      "text/plain": [
       "<IPython.core.display.Javascript object>"
      ]
     },
     "metadata": {},
     "output_type": "display_data"
    },
    {
     "data": {
      "application/javascript": [
       "\n",
       "        if (window._pyforest_update_imports_cell) { window._pyforest_update_imports_cell('from sklearn.feature_extraction.text import CountVectorizer\\nimport pandas as pd'); }\n",
       "    "
      ],
      "text/plain": [
       "<IPython.core.display.Javascript object>"
      ]
     },
     "metadata": {},
     "output_type": "display_data"
    },
    {
     "data": {
      "application/javascript": [
       "\n",
       "        if (window._pyforest_update_imports_cell) { window._pyforest_update_imports_cell('from sklearn.feature_extraction.text import CountVectorizer\\nimport pandas as pd'); }\n",
       "    "
      ],
      "text/plain": [
       "<IPython.core.display.Javascript object>"
      ]
     },
     "metadata": {},
     "output_type": "display_data"
    },
    {
     "data": {
      "application/javascript": [
       "\n",
       "        if (window._pyforest_update_imports_cell) { window._pyforest_update_imports_cell('from sklearn.feature_extraction.text import CountVectorizer\\nimport pandas as pd'); }\n",
       "    "
      ],
      "text/plain": [
       "<IPython.core.display.Javascript object>"
      ]
     },
     "metadata": {},
     "output_type": "display_data"
    },
    {
     "data": {
      "application/javascript": [
       "\n",
       "        if (window._pyforest_update_imports_cell) { window._pyforest_update_imports_cell('from sklearn.feature_extraction.text import CountVectorizer\\nimport pandas as pd'); }\n",
       "    "
      ],
      "text/plain": [
       "<IPython.core.display.Javascript object>"
      ]
     },
     "metadata": {},
     "output_type": "display_data"
    },
    {
     "data": {
      "application/javascript": [
       "\n",
       "        if (window._pyforest_update_imports_cell) { window._pyforest_update_imports_cell('from sklearn.feature_extraction.text import CountVectorizer\\nimport pandas as pd'); }\n",
       "    "
      ],
      "text/plain": [
       "<IPython.core.display.Javascript object>"
      ]
     },
     "metadata": {},
     "output_type": "display_data"
    },
    {
     "data": {
      "application/javascript": [
       "\n",
       "        if (window._pyforest_update_imports_cell) { window._pyforest_update_imports_cell('from sklearn.feature_extraction.text import CountVectorizer\\nimport pandas as pd'); }\n",
       "    "
      ],
      "text/plain": [
       "<IPython.core.display.Javascript object>"
      ]
     },
     "metadata": {},
     "output_type": "display_data"
    },
    {
     "data": {
      "application/javascript": [
       "\n",
       "        if (window._pyforest_update_imports_cell) { window._pyforest_update_imports_cell('from sklearn.feature_extraction.text import CountVectorizer\\nimport pandas as pd'); }\n",
       "    "
      ],
      "text/plain": [
       "<IPython.core.display.Javascript object>"
      ]
     },
     "metadata": {},
     "output_type": "display_data"
    },
    {
     "data": {
      "application/javascript": [
       "\n",
       "        if (window._pyforest_update_imports_cell) { window._pyforest_update_imports_cell('from sklearn.feature_extraction.text import CountVectorizer\\nimport pandas as pd'); }\n",
       "    "
      ],
      "text/plain": [
       "<IPython.core.display.Javascript object>"
      ]
     },
     "metadata": {},
     "output_type": "display_data"
    },
    {
     "data": {
      "application/javascript": [
       "\n",
       "        if (window._pyforest_update_imports_cell) { window._pyforest_update_imports_cell('from sklearn.feature_extraction.text import CountVectorizer\\nimport pandas as pd'); }\n",
       "    "
      ],
      "text/plain": [
       "<IPython.core.display.Javascript object>"
      ]
     },
     "metadata": {},
     "output_type": "display_data"
    },
    {
     "data": {
      "application/javascript": [
       "\n",
       "        if (window._pyforest_update_imports_cell) { window._pyforest_update_imports_cell('from sklearn.feature_extraction.text import CountVectorizer\\nimport pandas as pd'); }\n",
       "    "
      ],
      "text/plain": [
       "<IPython.core.display.Javascript object>"
      ]
     },
     "metadata": {},
     "output_type": "display_data"
    },
    {
     "data": {
      "text/html": [
       "<div>\n",
       "<style scoped>\n",
       "    .dataframe tbody tr th:only-of-type {\n",
       "        vertical-align: middle;\n",
       "    }\n",
       "\n",
       "    .dataframe tbody tr th {\n",
       "        vertical-align: top;\n",
       "    }\n",
       "\n",
       "    .dataframe thead th {\n",
       "        text-align: right;\n",
       "    }\n",
       "</style>\n",
       "<table border=\"1\" class=\"dataframe\">\n",
       "  <thead>\n",
       "    <tr style=\"text-align: right;\">\n",
       "      <th></th>\n",
       "      <th>Nama Produk</th>\n",
       "      <th>Nilai Kesamaan</th>\n",
       "    </tr>\n",
       "  </thead>\n",
       "  <tbody>\n",
       "    <tr>\n",
       "      <th>0</th>\n",
       "      <td>Seafood Skewers</td>\n",
       "      <td>0.981052</td>\n",
       "    </tr>\n",
       "    <tr>\n",
       "      <th>1</th>\n",
       "      <td>Seafood Skewers</td>\n",
       "      <td>0.977639</td>\n",
       "    </tr>\n",
       "    <tr>\n",
       "      <th>2</th>\n",
       "      <td>Seafood Skewers</td>\n",
       "      <td>0.977301</td>\n",
       "    </tr>\n",
       "    <tr>\n",
       "      <th>3</th>\n",
       "      <td>Seafood Skewers</td>\n",
       "      <td>0.969925</td>\n",
       "    </tr>\n",
       "    <tr>\n",
       "      <th>4</th>\n",
       "      <td>Fresh Marinara Mix</td>\n",
       "      <td>0.744954</td>\n",
       "    </tr>\n",
       "    <tr>\n",
       "      <th>5</th>\n",
       "      <td>Fresh Marinara Mix</td>\n",
       "      <td>0.736036</td>\n",
       "    </tr>\n",
       "  </tbody>\n",
       "</table>\n",
       "</div>"
      ],
      "text/plain": [
       "          Nama Produk  Nilai Kesamaan\n",
       "0     Seafood Skewers        0.981052\n",
       "1     Seafood Skewers        0.977639\n",
       "2     Seafood Skewers        0.977301\n",
       "3     Seafood Skewers        0.969925\n",
       "4  Fresh Marinara Mix        0.744954\n",
       "5  Fresh Marinara Mix        0.736036"
      ]
     },
     "execution_count": 42,
     "metadata": {},
     "output_type": "execute_result"
    }
   ],
   "source": [
    "rekomendasi_produk('Divine Seafood Platter')"
   ]
  },
  {
   "cell_type": "code",
   "execution_count": 43,
   "id": "571ebd4c",
   "metadata": {},
   "outputs": [
    {
     "data": {
      "text/plain": [
       "'Origin: Australia'"
      ]
     },
     "execution_count": 43,
     "metadata": {},
     "output_type": "execute_result"
    }
   ],
   "source": [
    "df['asal_produk'][152]"
   ]
  },
  {
   "cell_type": "markdown",
   "id": "85ee20a3",
   "metadata": {},
   "source": [
    "#### Perbandingan\n",
    "Jika dibandingkan pada website tersebut ketika mengunjungi produk 'Divine Seafood Platter' itu hanya menampilkan dua rekomendasi produk yaitu 'Half Shell New Zealand Mussles' dan 'Ora King Salmon Caviar'. \n",
    "\n",
    "Jika dilakukan analisis untuk membuktikan apakah website tersebut memiliki sistem rekomenadasi dari beberapa hal dibawah ini:\n",
    "- asumsikan bahwa website tersebut menggunakan fitur 'harga' untuk rekomendasi, namun harga produk dan satu rekomendasi produk di website tersebut terbilang jauh berbeda.\n",
    "- dilihat dari tempat juga terbilang berbeda, karena produk itu dari Australia, namun rekomendasi itu dari New Zealand\n",
    "\n",
    "Artinya sistem rekomendasi dari website tersebut belum terbilang optimal.\n",
    "\n",
    "\n",
    "Maka dari itu dengan menerapkan sistem rekomendasi dengan content based filtering ini akan cukup membantu dalam menyarankan produk yang serupa terhadap suatu produk yang dipilih."
   ]
  },
  {
   "cell_type": "code",
   "execution_count": 44,
   "id": "04fda6da",
   "metadata": {},
   "outputs": [
    {
     "data": {
      "text/plain": [
       "'Black Cod Fillet'"
      ]
     },
     "execution_count": 44,
     "metadata": {},
     "output_type": "execute_result"
    }
   ],
   "source": [
    "df['nama_produk'][431]"
   ]
  },
  {
   "cell_type": "code",
   "execution_count": 45,
   "id": "3afe00f9",
   "metadata": {},
   "outputs": [
    {
     "data": {
      "application/javascript": [
       "\n",
       "        if (window._pyforest_update_imports_cell) { window._pyforest_update_imports_cell('from sklearn.feature_extraction.text import CountVectorizer\\nimport pandas as pd'); }\n",
       "    "
      ],
      "text/plain": [
       "<IPython.core.display.Javascript object>"
      ]
     },
     "metadata": {},
     "output_type": "display_data"
    },
    {
     "data": {
      "application/javascript": [
       "\n",
       "        if (window._pyforest_update_imports_cell) { window._pyforest_update_imports_cell('from sklearn.feature_extraction.text import CountVectorizer\\nimport pandas as pd'); }\n",
       "    "
      ],
      "text/plain": [
       "<IPython.core.display.Javascript object>"
      ]
     },
     "metadata": {},
     "output_type": "display_data"
    },
    {
     "data": {
      "application/javascript": [
       "\n",
       "        if (window._pyforest_update_imports_cell) { window._pyforest_update_imports_cell('from sklearn.feature_extraction.text import CountVectorizer\\nimport pandas as pd'); }\n",
       "    "
      ],
      "text/plain": [
       "<IPython.core.display.Javascript object>"
      ]
     },
     "metadata": {},
     "output_type": "display_data"
    },
    {
     "data": {
      "application/javascript": [
       "\n",
       "        if (window._pyforest_update_imports_cell) { window._pyforest_update_imports_cell('from sklearn.feature_extraction.text import CountVectorizer\\nimport pandas as pd'); }\n",
       "    "
      ],
      "text/plain": [
       "<IPython.core.display.Javascript object>"
      ]
     },
     "metadata": {},
     "output_type": "display_data"
    },
    {
     "data": {
      "application/javascript": [
       "\n",
       "        if (window._pyforest_update_imports_cell) { window._pyforest_update_imports_cell('from sklearn.feature_extraction.text import CountVectorizer\\nimport pandas as pd'); }\n",
       "    "
      ],
      "text/plain": [
       "<IPython.core.display.Javascript object>"
      ]
     },
     "metadata": {},
     "output_type": "display_data"
    },
    {
     "data": {
      "application/javascript": [
       "\n",
       "        if (window._pyforest_update_imports_cell) { window._pyforest_update_imports_cell('from sklearn.feature_extraction.text import CountVectorizer\\nimport pandas as pd'); }\n",
       "    "
      ],
      "text/plain": [
       "<IPython.core.display.Javascript object>"
      ]
     },
     "metadata": {},
     "output_type": "display_data"
    },
    {
     "data": {
      "application/javascript": [
       "\n",
       "        if (window._pyforest_update_imports_cell) { window._pyforest_update_imports_cell('from sklearn.feature_extraction.text import CountVectorizer\\nimport pandas as pd'); }\n",
       "    "
      ],
      "text/plain": [
       "<IPython.core.display.Javascript object>"
      ]
     },
     "metadata": {},
     "output_type": "display_data"
    },
    {
     "data": {
      "application/javascript": [
       "\n",
       "        if (window._pyforest_update_imports_cell) { window._pyforest_update_imports_cell('from sklearn.feature_extraction.text import CountVectorizer\\nimport pandas as pd'); }\n",
       "    "
      ],
      "text/plain": [
       "<IPython.core.display.Javascript object>"
      ]
     },
     "metadata": {},
     "output_type": "display_data"
    },
    {
     "data": {
      "application/javascript": [
       "\n",
       "        if (window._pyforest_update_imports_cell) { window._pyforest_update_imports_cell('from sklearn.feature_extraction.text import CountVectorizer\\nimport pandas as pd'); }\n",
       "    "
      ],
      "text/plain": [
       "<IPython.core.display.Javascript object>"
      ]
     },
     "metadata": {},
     "output_type": "display_data"
    },
    {
     "data": {
      "application/javascript": [
       "\n",
       "        if (window._pyforest_update_imports_cell) { window._pyforest_update_imports_cell('from sklearn.feature_extraction.text import CountVectorizer\\nimport pandas as pd'); }\n",
       "    "
      ],
      "text/plain": [
       "<IPython.core.display.Javascript object>"
      ]
     },
     "metadata": {},
     "output_type": "display_data"
    },
    {
     "data": {
      "application/javascript": [
       "\n",
       "        if (window._pyforest_update_imports_cell) { window._pyforest_update_imports_cell('from sklearn.feature_extraction.text import CountVectorizer\\nimport pandas as pd'); }\n",
       "    "
      ],
      "text/plain": [
       "<IPython.core.display.Javascript object>"
      ]
     },
     "metadata": {},
     "output_type": "display_data"
    },
    {
     "data": {
      "application/javascript": [
       "\n",
       "        if (window._pyforest_update_imports_cell) { window._pyforest_update_imports_cell('from sklearn.feature_extraction.text import CountVectorizer\\nimport pandas as pd'); }\n",
       "    "
      ],
      "text/plain": [
       "<IPython.core.display.Javascript object>"
      ]
     },
     "metadata": {},
     "output_type": "display_data"
    },
    {
     "data": {
      "application/javascript": [
       "\n",
       "        if (window._pyforest_update_imports_cell) { window._pyforest_update_imports_cell('from sklearn.feature_extraction.text import CountVectorizer\\nimport pandas as pd'); }\n",
       "    "
      ],
      "text/plain": [
       "<IPython.core.display.Javascript object>"
      ]
     },
     "metadata": {},
     "output_type": "display_data"
    },
    {
     "data": {
      "text/html": [
       "<div>\n",
       "<style scoped>\n",
       "    .dataframe tbody tr th:only-of-type {\n",
       "        vertical-align: middle;\n",
       "    }\n",
       "\n",
       "    .dataframe tbody tr th {\n",
       "        vertical-align: top;\n",
       "    }\n",
       "\n",
       "    .dataframe thead th {\n",
       "        text-align: right;\n",
       "    }\n",
       "</style>\n",
       "<table border=\"1\" class=\"dataframe\">\n",
       "  <thead>\n",
       "    <tr style=\"text-align: right;\">\n",
       "      <th></th>\n",
       "      <th>Nama Produk</th>\n",
       "      <th>Nilai Kesamaan</th>\n",
       "    </tr>\n",
       "  </thead>\n",
       "  <tbody>\n",
       "    <tr>\n",
       "      <th>0</th>\n",
       "      <td>Western Australia Whitebait</td>\n",
       "      <td>0.982194</td>\n",
       "    </tr>\n",
       "    <tr>\n",
       "      <th>1</th>\n",
       "      <td>Local Sprat (Whitebait)</td>\n",
       "      <td>0.774389</td>\n",
       "    </tr>\n",
       "    <tr>\n",
       "      <th>2</th>\n",
       "      <td>Local Sprat (Whitebait)</td>\n",
       "      <td>0.751916</td>\n",
       "    </tr>\n",
       "    <tr>\n",
       "      <th>3</th>\n",
       "      <td>Silver Fish</td>\n",
       "      <td>0.724329</td>\n",
       "    </tr>\n",
       "    <tr>\n",
       "      <th>4</th>\n",
       "      <td>Silver Fish</td>\n",
       "      <td>0.701766</td>\n",
       "    </tr>\n",
       "    <tr>\n",
       "      <th>5</th>\n",
       "      <td>Bulk Buy Leather Jackets</td>\n",
       "      <td>0.466041</td>\n",
       "    </tr>\n",
       "  </tbody>\n",
       "</table>\n",
       "</div>"
      ],
      "text/plain": [
       "                   Nama Produk  Nilai Kesamaan\n",
       "0  Western Australia Whitebait        0.982194\n",
       "1      Local Sprat (Whitebait)        0.774389\n",
       "2      Local Sprat (Whitebait)        0.751916\n",
       "3                  Silver Fish        0.724329\n",
       "4                  Silver Fish        0.701766\n",
       "5     Bulk Buy Leather Jackets        0.466041"
      ]
     },
     "execution_count": 45,
     "metadata": {},
     "output_type": "execute_result"
    }
   ],
   "source": [
    "rekomendasi_produk('Local Sprat (Whitebait)')"
   ]
  },
  {
   "cell_type": "code",
   "execution_count": 46,
   "id": "026405c5",
   "metadata": {},
   "outputs": [
    {
     "data": {
      "application/javascript": [
       "\n",
       "        if (window._pyforest_update_imports_cell) { window._pyforest_update_imports_cell('from sklearn.feature_extraction.text import CountVectorizer\\nimport pandas as pd'); }\n",
       "    "
      ],
      "text/plain": [
       "<IPython.core.display.Javascript object>"
      ]
     },
     "metadata": {},
     "output_type": "display_data"
    },
    {
     "data": {
      "application/javascript": [
       "\n",
       "        if (window._pyforest_update_imports_cell) { window._pyforest_update_imports_cell('from sklearn.feature_extraction.text import CountVectorizer\\nimport pandas as pd'); }\n",
       "    "
      ],
      "text/plain": [
       "<IPython.core.display.Javascript object>"
      ]
     },
     "metadata": {},
     "output_type": "display_data"
    },
    {
     "data": {
      "application/javascript": [
       "\n",
       "        if (window._pyforest_update_imports_cell) { window._pyforest_update_imports_cell('from sklearn.feature_extraction.text import CountVectorizer\\nimport pandas as pd'); }\n",
       "    "
      ],
      "text/plain": [
       "<IPython.core.display.Javascript object>"
      ]
     },
     "metadata": {},
     "output_type": "display_data"
    },
    {
     "data": {
      "application/javascript": [
       "\n",
       "        if (window._pyforest_update_imports_cell) { window._pyforest_update_imports_cell('from sklearn.feature_extraction.text import CountVectorizer\\nimport pandas as pd'); }\n",
       "    "
      ],
      "text/plain": [
       "<IPython.core.display.Javascript object>"
      ]
     },
     "metadata": {},
     "output_type": "display_data"
    },
    {
     "data": {
      "application/javascript": [
       "\n",
       "        if (window._pyforest_update_imports_cell) { window._pyforest_update_imports_cell('from sklearn.feature_extraction.text import CountVectorizer\\nimport pandas as pd'); }\n",
       "    "
      ],
      "text/plain": [
       "<IPython.core.display.Javascript object>"
      ]
     },
     "metadata": {},
     "output_type": "display_data"
    },
    {
     "data": {
      "application/javascript": [
       "\n",
       "        if (window._pyforest_update_imports_cell) { window._pyforest_update_imports_cell('from sklearn.feature_extraction.text import CountVectorizer\\nimport pandas as pd'); }\n",
       "    "
      ],
      "text/plain": [
       "<IPython.core.display.Javascript object>"
      ]
     },
     "metadata": {},
     "output_type": "display_data"
    },
    {
     "data": {
      "application/javascript": [
       "\n",
       "        if (window._pyforest_update_imports_cell) { window._pyforest_update_imports_cell('from sklearn.feature_extraction.text import CountVectorizer\\nimport pandas as pd'); }\n",
       "    "
      ],
      "text/plain": [
       "<IPython.core.display.Javascript object>"
      ]
     },
     "metadata": {},
     "output_type": "display_data"
    },
    {
     "data": {
      "application/javascript": [
       "\n",
       "        if (window._pyforest_update_imports_cell) { window._pyforest_update_imports_cell('from sklearn.feature_extraction.text import CountVectorizer\\nimport pandas as pd'); }\n",
       "    "
      ],
      "text/plain": [
       "<IPython.core.display.Javascript object>"
      ]
     },
     "metadata": {},
     "output_type": "display_data"
    },
    {
     "data": {
      "application/javascript": [
       "\n",
       "        if (window._pyforest_update_imports_cell) { window._pyforest_update_imports_cell('from sklearn.feature_extraction.text import CountVectorizer\\nimport pandas as pd'); }\n",
       "    "
      ],
      "text/plain": [
       "<IPython.core.display.Javascript object>"
      ]
     },
     "metadata": {},
     "output_type": "display_data"
    },
    {
     "data": {
      "application/javascript": [
       "\n",
       "        if (window._pyforest_update_imports_cell) { window._pyforest_update_imports_cell('from sklearn.feature_extraction.text import CountVectorizer\\nimport pandas as pd'); }\n",
       "    "
      ],
      "text/plain": [
       "<IPython.core.display.Javascript object>"
      ]
     },
     "metadata": {},
     "output_type": "display_data"
    },
    {
     "data": {
      "application/javascript": [
       "\n",
       "        if (window._pyforest_update_imports_cell) { window._pyforest_update_imports_cell('from sklearn.feature_extraction.text import CountVectorizer\\nimport pandas as pd'); }\n",
       "    "
      ],
      "text/plain": [
       "<IPython.core.display.Javascript object>"
      ]
     },
     "metadata": {},
     "output_type": "display_data"
    },
    {
     "data": {
      "application/javascript": [
       "\n",
       "        if (window._pyforest_update_imports_cell) { window._pyforest_update_imports_cell('from sklearn.feature_extraction.text import CountVectorizer\\nimport pandas as pd'); }\n",
       "    "
      ],
      "text/plain": [
       "<IPython.core.display.Javascript object>"
      ]
     },
     "metadata": {},
     "output_type": "display_data"
    },
    {
     "data": {
      "application/javascript": [
       "\n",
       "        if (window._pyforest_update_imports_cell) { window._pyforest_update_imports_cell('from sklearn.feature_extraction.text import CountVectorizer\\nimport pandas as pd'); }\n",
       "    "
      ],
      "text/plain": [
       "<IPython.core.display.Javascript object>"
      ]
     },
     "metadata": {},
     "output_type": "display_data"
    },
    {
     "data": {
      "text/html": [
       "<div>\n",
       "<style scoped>\n",
       "    .dataframe tbody tr th:only-of-type {\n",
       "        vertical-align: middle;\n",
       "    }\n",
       "\n",
       "    .dataframe tbody tr th {\n",
       "        vertical-align: top;\n",
       "    }\n",
       "\n",
       "    .dataframe thead th {\n",
       "        text-align: right;\n",
       "    }\n",
       "</style>\n",
       "<table border=\"1\" class=\"dataframe\">\n",
       "  <thead>\n",
       "    <tr style=\"text-align: right;\">\n",
       "      <th></th>\n",
       "      <th>Nama Produk</th>\n",
       "      <th>Nilai Kesamaan</th>\n",
       "    </tr>\n",
       "  </thead>\n",
       "  <tbody>\n",
       "    <tr>\n",
       "      <th>0</th>\n",
       "      <td>Giant Garlic Butter Prawns</td>\n",
       "      <td>0.991961</td>\n",
       "    </tr>\n",
       "    <tr>\n",
       "      <th>1</th>\n",
       "      <td>Garlic Marinated Prawns</td>\n",
       "      <td>0.617862</td>\n",
       "    </tr>\n",
       "    <tr>\n",
       "      <th>2</th>\n",
       "      <td>Garlic Marinated Prawns</td>\n",
       "      <td>0.613211</td>\n",
       "    </tr>\n",
       "    <tr>\n",
       "      <th>3</th>\n",
       "      <td>GIANT King Prawns Green</td>\n",
       "      <td>0.538482</td>\n",
       "    </tr>\n",
       "    <tr>\n",
       "      <th>4</th>\n",
       "      <td>Chilli Garlic Marinated Prawns</td>\n",
       "      <td>0.482640</td>\n",
       "    </tr>\n",
       "    <tr>\n",
       "      <th>5</th>\n",
       "      <td>King Prawn Green Medium-Large</td>\n",
       "      <td>0.478651</td>\n",
       "    </tr>\n",
       "  </tbody>\n",
       "</table>\n",
       "</div>"
      ],
      "text/plain": [
       "                      Nama Produk  Nilai Kesamaan\n",
       "0      Giant Garlic Butter Prawns        0.991961\n",
       "1         Garlic Marinated Prawns        0.617862\n",
       "2         Garlic Marinated Prawns        0.613211\n",
       "3         GIANT King Prawns Green        0.538482\n",
       "4  Chilli Garlic Marinated Prawns        0.482640\n",
       "5   King Prawn Green Medium-Large        0.478651"
      ]
     },
     "execution_count": 46,
     "metadata": {},
     "output_type": "execute_result"
    }
   ],
   "source": [
    "rekomendasi_produk('Bulk Buy GIANT King Prawns Raw')"
   ]
  },
  {
   "cell_type": "code",
   "execution_count": 47,
   "id": "b7400ea9",
   "metadata": {},
   "outputs": [
    {
     "data": {
      "application/javascript": [
       "\n",
       "        if (window._pyforest_update_imports_cell) { window._pyforest_update_imports_cell('from sklearn.feature_extraction.text import CountVectorizer\\nimport pandas as pd'); }\n",
       "    "
      ],
      "text/plain": [
       "<IPython.core.display.Javascript object>"
      ]
     },
     "metadata": {},
     "output_type": "display_data"
    },
    {
     "data": {
      "application/javascript": [
       "\n",
       "        if (window._pyforest_update_imports_cell) { window._pyforest_update_imports_cell('from sklearn.feature_extraction.text import CountVectorizer\\nimport pandas as pd'); }\n",
       "    "
      ],
      "text/plain": [
       "<IPython.core.display.Javascript object>"
      ]
     },
     "metadata": {},
     "output_type": "display_data"
    },
    {
     "data": {
      "application/javascript": [
       "\n",
       "        if (window._pyforest_update_imports_cell) { window._pyforest_update_imports_cell('from sklearn.feature_extraction.text import CountVectorizer\\nimport pandas as pd'); }\n",
       "    "
      ],
      "text/plain": [
       "<IPython.core.display.Javascript object>"
      ]
     },
     "metadata": {},
     "output_type": "display_data"
    },
    {
     "data": {
      "application/javascript": [
       "\n",
       "        if (window._pyforest_update_imports_cell) { window._pyforest_update_imports_cell('from sklearn.feature_extraction.text import CountVectorizer\\nimport pandas as pd'); }\n",
       "    "
      ],
      "text/plain": [
       "<IPython.core.display.Javascript object>"
      ]
     },
     "metadata": {},
     "output_type": "display_data"
    },
    {
     "data": {
      "application/javascript": [
       "\n",
       "        if (window._pyforest_update_imports_cell) { window._pyforest_update_imports_cell('from sklearn.feature_extraction.text import CountVectorizer\\nimport pandas as pd'); }\n",
       "    "
      ],
      "text/plain": [
       "<IPython.core.display.Javascript object>"
      ]
     },
     "metadata": {},
     "output_type": "display_data"
    },
    {
     "data": {
      "application/javascript": [
       "\n",
       "        if (window._pyforest_update_imports_cell) { window._pyforest_update_imports_cell('from sklearn.feature_extraction.text import CountVectorizer\\nimport pandas as pd'); }\n",
       "    "
      ],
      "text/plain": [
       "<IPython.core.display.Javascript object>"
      ]
     },
     "metadata": {},
     "output_type": "display_data"
    },
    {
     "data": {
      "application/javascript": [
       "\n",
       "        if (window._pyforest_update_imports_cell) { window._pyforest_update_imports_cell('from sklearn.feature_extraction.text import CountVectorizer\\nimport pandas as pd'); }\n",
       "    "
      ],
      "text/plain": [
       "<IPython.core.display.Javascript object>"
      ]
     },
     "metadata": {},
     "output_type": "display_data"
    },
    {
     "data": {
      "application/javascript": [
       "\n",
       "        if (window._pyforest_update_imports_cell) { window._pyforest_update_imports_cell('from sklearn.feature_extraction.text import CountVectorizer\\nimport pandas as pd'); }\n",
       "    "
      ],
      "text/plain": [
       "<IPython.core.display.Javascript object>"
      ]
     },
     "metadata": {},
     "output_type": "display_data"
    },
    {
     "data": {
      "application/javascript": [
       "\n",
       "        if (window._pyforest_update_imports_cell) { window._pyforest_update_imports_cell('from sklearn.feature_extraction.text import CountVectorizer\\nimport pandas as pd'); }\n",
       "    "
      ],
      "text/plain": [
       "<IPython.core.display.Javascript object>"
      ]
     },
     "metadata": {},
     "output_type": "display_data"
    },
    {
     "data": {
      "application/javascript": [
       "\n",
       "        if (window._pyforest_update_imports_cell) { window._pyforest_update_imports_cell('from sklearn.feature_extraction.text import CountVectorizer\\nimport pandas as pd'); }\n",
       "    "
      ],
      "text/plain": [
       "<IPython.core.display.Javascript object>"
      ]
     },
     "metadata": {},
     "output_type": "display_data"
    },
    {
     "data": {
      "application/javascript": [
       "\n",
       "        if (window._pyforest_update_imports_cell) { window._pyforest_update_imports_cell('from sklearn.feature_extraction.text import CountVectorizer\\nimport pandas as pd'); }\n",
       "    "
      ],
      "text/plain": [
       "<IPython.core.display.Javascript object>"
      ]
     },
     "metadata": {},
     "output_type": "display_data"
    },
    {
     "data": {
      "application/javascript": [
       "\n",
       "        if (window._pyforest_update_imports_cell) { window._pyforest_update_imports_cell('from sklearn.feature_extraction.text import CountVectorizer\\nimport pandas as pd'); }\n",
       "    "
      ],
      "text/plain": [
       "<IPython.core.display.Javascript object>"
      ]
     },
     "metadata": {},
     "output_type": "display_data"
    },
    {
     "data": {
      "application/javascript": [
       "\n",
       "        if (window._pyforest_update_imports_cell) { window._pyforest_update_imports_cell('from sklearn.feature_extraction.text import CountVectorizer\\nimport pandas as pd'); }\n",
       "    "
      ],
      "text/plain": [
       "<IPython.core.display.Javascript object>"
      ]
     },
     "metadata": {},
     "output_type": "display_data"
    },
    {
     "data": {
      "text/html": [
       "<div>\n",
       "<style scoped>\n",
       "    .dataframe tbody tr th:only-of-type {\n",
       "        vertical-align: middle;\n",
       "    }\n",
       "\n",
       "    .dataframe tbody tr th {\n",
       "        vertical-align: top;\n",
       "    }\n",
       "\n",
       "    .dataframe thead th {\n",
       "        text-align: right;\n",
       "    }\n",
       "</style>\n",
       "<table border=\"1\" class=\"dataframe\">\n",
       "  <thead>\n",
       "    <tr style=\"text-align: right;\">\n",
       "      <th></th>\n",
       "      <th>Nama Produk</th>\n",
       "      <th>Nilai Kesamaan</th>\n",
       "    </tr>\n",
       "  </thead>\n",
       "  <tbody>\n",
       "    <tr>\n",
       "      <th>0</th>\n",
       "      <td>Hiramasa Kingfish Fillets</td>\n",
       "      <td>0.970925</td>\n",
       "    </tr>\n",
       "    <tr>\n",
       "      <th>1</th>\n",
       "      <td>Hiramasa Kingfish Side Frozen</td>\n",
       "      <td>0.680490</td>\n",
       "    </tr>\n",
       "    <tr>\n",
       "      <th>2</th>\n",
       "      <td>Hiramasa Kingfish Side Frozen</td>\n",
       "      <td>0.634338</td>\n",
       "    </tr>\n",
       "    <tr>\n",
       "      <th>3</th>\n",
       "      <td>Flathead Fillets</td>\n",
       "      <td>0.461301</td>\n",
       "    </tr>\n",
       "    <tr>\n",
       "      <th>4</th>\n",
       "      <td>Barramundi Fillets (2 x 180g)</td>\n",
       "      <td>0.429914</td>\n",
       "    </tr>\n",
       "    <tr>\n",
       "      <th>5</th>\n",
       "      <td>Kingfish Sashimi Loin</td>\n",
       "      <td>0.421070</td>\n",
       "    </tr>\n",
       "  </tbody>\n",
       "</table>\n",
       "</div>"
      ],
      "text/plain": [
       "                     Nama Produk  Nilai Kesamaan\n",
       "0      Hiramasa Kingfish Fillets        0.970925\n",
       "1  Hiramasa Kingfish Side Frozen        0.680490\n",
       "2  Hiramasa Kingfish Side Frozen        0.634338\n",
       "3               Flathead Fillets        0.461301\n",
       "4  Barramundi Fillets (2 x 180g)        0.429914\n",
       "5          Kingfish Sashimi Loin        0.421070"
      ]
     },
     "execution_count": 47,
     "metadata": {},
     "output_type": "execute_result"
    }
   ],
   "source": [
    "rekomendasi_produk('Black Cod Fillet')"
   ]
  },
  {
   "cell_type": "code",
   "execution_count": 65,
   "id": "b8639fd0",
   "metadata": {},
   "outputs": [],
   "source": [
    "def rekomendasi_acak(df, kesamaan, jumlah_produk):\n",
    "\n",
    "    # jumlah produk yang dipilih\n",
    "    nama_produk_acak                = random.sample(df['nama_produk'].tolist(),jumlah_produk)\n",
    "    hasil_rekomendasi               = []\n",
    "\n",
    "    for nama_produk in nama_produk_acak:\n",
    "        \n",
    "        # akses indeks\n",
    "        produk_indeks               = df[df['nama_produk'] == nama_produk].index[0]\n",
    "\n",
    "        # top 6 rekomendasi\n",
    "        daftar_produk               = sorted(list(enumerate(kesamaan[produk_indeks])),\n",
    "                                             reverse=True,\n",
    "                                             key=lambda x: x[1])[1:7]\n",
    "        \n",
    "        rekomendasi_produk          = []\n",
    "\n",
    "        # hasil rekomendasi tambahkan ke list\n",
    "        for i, (indeks_produk, nilai_kesamaan) in enumerate(daftar_produk):\n",
    "            \n",
    "            nama_produk_rekomendasi = df.iloc[indeks_produk].nama_produk\n",
    "            rekomendasi_produk.append((nama_produk_rekomendasi, nilai_kesamaan))\n",
    "\n",
    "        # list hasil rekomendasi\n",
    "        hasil_rekomendasi.append((nama_produk, rekomendasi_produk))\n",
    "\n",
    "    # list untuk dataframe hasil rekomendasi\n",
    "    list_hasil_rekomendasi          = []\n",
    "\n",
    "    # average nilai kesamaan dari setiap tingkatan rekomendasi produk\n",
    "    for i, (nama_produk, rekomendasi_produk) in enumerate(hasil_rekomendasi):\n",
    "        for j, (nama_produk_rekomendasi, nilai_kesamaan) in enumerate(rekomendasi_produk):\n",
    "            \n",
    "            # syarat jika belum ada entri produk rekomendasi, bikin entri baru\n",
    "            if len(list_hasil_rekomendasi) <= j:\n",
    "                list_hasil_rekomendasi.append({'Tingkatan Produk': j + 1,\n",
    "                                               'Rata-rata Kesamaan': nilai_kesamaan,\n",
    "                                               'Jumlah Produk': 1})\n",
    "            else:\n",
    "                # perbaruin average dan jumlah produk yang dipilih secara acak\n",
    "                list_hasil_rekomendasi[j]['Rata-rata Kesamaan'] += nilai_kesamaan\n",
    "                list_hasil_rekomendasi[j]['Jumlah Produk'] += 1\n",
    "\n",
    "    # tinggal dihitung rata-ratanya\n",
    "    for produk in list_hasil_rekomendasi:\n",
    "        produk['Rata-rata Kesamaan'] /= produk['Jumlah Produk']\n",
    "\n",
    "    # dataframe\n",
    "    df_rekomendasi = pd.DataFrame(list_hasil_rekomendasi)\n",
    "\n",
    "    return df_rekomendasi"
   ]
  },
  {
   "cell_type": "code",
   "execution_count": 61,
   "id": "2c1646ba",
   "metadata": {},
   "outputs": [
    {
     "data": {
      "application/javascript": [
       "\n",
       "        if (window._pyforest_update_imports_cell) { window._pyforest_update_imports_cell('from sklearn.feature_extraction.text import CountVectorizer\\nimport pandas as pd'); }\n",
       "    "
      ],
      "text/plain": [
       "<IPython.core.display.Javascript object>"
      ]
     },
     "metadata": {},
     "output_type": "display_data"
    }
   ],
   "source": [
    "acak = rekomendasi_acak(df_baru, kesamaan)"
   ]
  },
  {
   "cell_type": "code",
   "execution_count": 62,
   "id": "822e4f21",
   "metadata": {},
   "outputs": [
    {
     "data": {
      "text/html": [
       "<div>\n",
       "<style scoped>\n",
       "    .dataframe tbody tr th:only-of-type {\n",
       "        vertical-align: middle;\n",
       "    }\n",
       "\n",
       "    .dataframe tbody tr th {\n",
       "        vertical-align: top;\n",
       "    }\n",
       "\n",
       "    .dataframe thead th {\n",
       "        text-align: right;\n",
       "    }\n",
       "</style>\n",
       "<table border=\"1\" class=\"dataframe\">\n",
       "  <thead>\n",
       "    <tr style=\"text-align: right;\">\n",
       "      <th></th>\n",
       "      <th>Tingkatan Produk</th>\n",
       "      <th>Rata-rata Kesamaan</th>\n",
       "      <th>Jumlah Produk</th>\n",
       "    </tr>\n",
       "  </thead>\n",
       "  <tbody>\n",
       "    <tr>\n",
       "      <th>0</th>\n",
       "      <td>1</td>\n",
       "      <td>0.870145</td>\n",
       "      <td>5</td>\n",
       "    </tr>\n",
       "    <tr>\n",
       "      <th>1</th>\n",
       "      <td>2</td>\n",
       "      <td>0.734443</td>\n",
       "      <td>5</td>\n",
       "    </tr>\n",
       "    <tr>\n",
       "      <th>2</th>\n",
       "      <td>3</td>\n",
       "      <td>0.587334</td>\n",
       "      <td>5</td>\n",
       "    </tr>\n",
       "    <tr>\n",
       "      <th>3</th>\n",
       "      <td>4</td>\n",
       "      <td>0.475855</td>\n",
       "      <td>5</td>\n",
       "    </tr>\n",
       "    <tr>\n",
       "      <th>4</th>\n",
       "      <td>5</td>\n",
       "      <td>0.461488</td>\n",
       "      <td>5</td>\n",
       "    </tr>\n",
       "    <tr>\n",
       "      <th>5</th>\n",
       "      <td>6</td>\n",
       "      <td>0.373071</td>\n",
       "      <td>5</td>\n",
       "    </tr>\n",
       "  </tbody>\n",
       "</table>\n",
       "</div>"
      ],
      "text/plain": [
       "   Tingkatan Produk  Rata-rata Kesamaan  Jumlah Produk\n",
       "0                 1            0.870145              5\n",
       "1                 2            0.734443              5\n",
       "2                 3            0.587334              5\n",
       "3                 4            0.475855              5\n",
       "4                 5            0.461488              5\n",
       "5                 6            0.373071              5"
      ]
     },
     "execution_count": 62,
     "metadata": {},
     "output_type": "execute_result"
    }
   ],
   "source": [
    "acak"
   ]
  },
  {
   "cell_type": "code",
   "execution_count": 63,
   "id": "9c8c4038",
   "metadata": {},
   "outputs": [
    {
     "data": {
      "application/javascript": [
       "\n",
       "        if (window._pyforest_update_imports_cell) { window._pyforest_update_imports_cell('from sklearn.feature_extraction.text import CountVectorizer\\nimport pandas as pd'); }\n",
       "    "
      ],
      "text/plain": [
       "<IPython.core.display.Javascript object>"
      ]
     },
     "metadata": {},
     "output_type": "display_data"
    }
   ],
   "source": [
    "acak2 = rekomendasi_acak(df_baru, kesamaan)"
   ]
  },
  {
   "cell_type": "code",
   "execution_count": 64,
   "id": "574dbd57",
   "metadata": {},
   "outputs": [
    {
     "data": {
      "text/html": [
       "<div>\n",
       "<style scoped>\n",
       "    .dataframe tbody tr th:only-of-type {\n",
       "        vertical-align: middle;\n",
       "    }\n",
       "\n",
       "    .dataframe tbody tr th {\n",
       "        vertical-align: top;\n",
       "    }\n",
       "\n",
       "    .dataframe thead th {\n",
       "        text-align: right;\n",
       "    }\n",
       "</style>\n",
       "<table border=\"1\" class=\"dataframe\">\n",
       "  <thead>\n",
       "    <tr style=\"text-align: right;\">\n",
       "      <th></th>\n",
       "      <th>Tingkatan Produk</th>\n",
       "      <th>Rata-rata Kesamaan</th>\n",
       "      <th>Jumlah Produk</th>\n",
       "    </tr>\n",
       "  </thead>\n",
       "  <tbody>\n",
       "    <tr>\n",
       "      <th>0</th>\n",
       "      <td>1</td>\n",
       "      <td>0.812342</td>\n",
       "      <td>5</td>\n",
       "    </tr>\n",
       "    <tr>\n",
       "      <th>1</th>\n",
       "      <td>2</td>\n",
       "      <td>0.582792</td>\n",
       "      <td>5</td>\n",
       "    </tr>\n",
       "    <tr>\n",
       "      <th>2</th>\n",
       "      <td>3</td>\n",
       "      <td>0.506836</td>\n",
       "      <td>5</td>\n",
       "    </tr>\n",
       "    <tr>\n",
       "      <th>3</th>\n",
       "      <td>4</td>\n",
       "      <td>0.439675</td>\n",
       "      <td>5</td>\n",
       "    </tr>\n",
       "    <tr>\n",
       "      <th>4</th>\n",
       "      <td>5</td>\n",
       "      <td>0.425619</td>\n",
       "      <td>5</td>\n",
       "    </tr>\n",
       "    <tr>\n",
       "      <th>5</th>\n",
       "      <td>6</td>\n",
       "      <td>0.411330</td>\n",
       "      <td>5</td>\n",
       "    </tr>\n",
       "  </tbody>\n",
       "</table>\n",
       "</div>"
      ],
      "text/plain": [
       "   Tingkatan Produk  Rata-rata Kesamaan  Jumlah Produk\n",
       "0                 1            0.812342              5\n",
       "1                 2            0.582792              5\n",
       "2                 3            0.506836              5\n",
       "3                 4            0.439675              5\n",
       "4                 5            0.425619              5\n",
       "5                 6            0.411330              5"
      ]
     },
     "execution_count": 64,
     "metadata": {},
     "output_type": "execute_result"
    }
   ],
   "source": [
    "acak2"
   ]
  },
  {
   "cell_type": "code",
   "execution_count": 66,
   "id": "b0a3e208",
   "metadata": {},
   "outputs": [
    {
     "data": {
      "application/javascript": [
       "\n",
       "        if (window._pyforest_update_imports_cell) { window._pyforest_update_imports_cell('from sklearn.feature_extraction.text import CountVectorizer\\nimport pandas as pd'); }\n",
       "    "
      ],
      "text/plain": [
       "<IPython.core.display.Javascript object>"
      ]
     },
     "metadata": {},
     "output_type": "display_data"
    }
   ],
   "source": [
    "acak30 = rekomendasi_acak(df_baru, kesamaan, 30)"
   ]
  },
  {
   "cell_type": "code",
   "execution_count": 67,
   "id": "2bbed931",
   "metadata": {},
   "outputs": [
    {
     "data": {
      "text/html": [
       "<div>\n",
       "<style scoped>\n",
       "    .dataframe tbody tr th:only-of-type {\n",
       "        vertical-align: middle;\n",
       "    }\n",
       "\n",
       "    .dataframe tbody tr th {\n",
       "        vertical-align: top;\n",
       "    }\n",
       "\n",
       "    .dataframe thead th {\n",
       "        text-align: right;\n",
       "    }\n",
       "</style>\n",
       "<table border=\"1\" class=\"dataframe\">\n",
       "  <thead>\n",
       "    <tr style=\"text-align: right;\">\n",
       "      <th></th>\n",
       "      <th>Tingkatan Produk</th>\n",
       "      <th>Rata-rata Kesamaan</th>\n",
       "      <th>Jumlah Produk</th>\n",
       "    </tr>\n",
       "  </thead>\n",
       "  <tbody>\n",
       "    <tr>\n",
       "      <th>0</th>\n",
       "      <td>1</td>\n",
       "      <td>0.815634</td>\n",
       "      <td>30</td>\n",
       "    </tr>\n",
       "    <tr>\n",
       "      <th>1</th>\n",
       "      <td>2</td>\n",
       "      <td>0.671630</td>\n",
       "      <td>30</td>\n",
       "    </tr>\n",
       "    <tr>\n",
       "      <th>2</th>\n",
       "      <td>3</td>\n",
       "      <td>0.601856</td>\n",
       "      <td>30</td>\n",
       "    </tr>\n",
       "    <tr>\n",
       "      <th>3</th>\n",
       "      <td>4</td>\n",
       "      <td>0.483401</td>\n",
       "      <td>30</td>\n",
       "    </tr>\n",
       "    <tr>\n",
       "      <th>4</th>\n",
       "      <td>5</td>\n",
       "      <td>0.450481</td>\n",
       "      <td>30</td>\n",
       "    </tr>\n",
       "    <tr>\n",
       "      <th>5</th>\n",
       "      <td>6</td>\n",
       "      <td>0.436933</td>\n",
       "      <td>30</td>\n",
       "    </tr>\n",
       "  </tbody>\n",
       "</table>\n",
       "</div>"
      ],
      "text/plain": [
       "   Tingkatan Produk  Rata-rata Kesamaan  Jumlah Produk\n",
       "0                 1            0.815634             30\n",
       "1                 2            0.671630             30\n",
       "2                 3            0.601856             30\n",
       "3                 4            0.483401             30\n",
       "4                 5            0.450481             30\n",
       "5                 6            0.436933             30"
      ]
     },
     "execution_count": 67,
     "metadata": {},
     "output_type": "execute_result"
    }
   ],
   "source": [
    "acak30"
   ]
  },
  {
   "cell_type": "markdown",
   "id": "6ab830f7",
   "metadata": {},
   "source": [
    "### Kesimpulan\n",
    "Rata-rata nilai kesamaan dari setiap hasil rekomendasi terhadap 30 produk seafood yang dipilih secara acak pada website **Manettas** menunjukkan hasil yang sangat menarik. Dengan nilai rata-rata kesamaan atau cosine similarity pada produk rekomendasi terbaik itu sekitar 0.81, dapat disimpulkan bahwa produk rekomendasi terbaik cenderung memiliki kemiripan yang tinggi dengan produk yang dipilih. Hal ini mengindikasikan bahwa sistem rekomendasi berbasis konten yang diterapkan cukup efektif dalam menghasilkan rekomendasi yang relevan dan sesuai dengan preferensi pengguna.\n",
    "\n",
    "Hasil ini memberikan gambaran bahwa pengguna dapat memperoleh pengalaman berbelanja yang lebih personal dan memuaskan melalui sistem rekomendasi ini. Dengan mampu menampilkan produk-produk yang secara signifikan mirip dengan preferensi pengguna, peluang untuk meningkatkan kepuasan pelanggan serta konversi penjualan menjadi lebih besar.\n",
    "\n",
    "Namun demikian, perlu diingat bahwa kesuksesan suatu sistem rekomendasi tidak hanya ditentukan oleh kemiripan produk, tetapi juga oleh berbagai faktor lainnya seperti kebutuhan dan preferensi pengguna yang dapat berubah dari waktu ke waktu. Oleh karena itu, perlu adanya upaya terus-menerus dalam pengembangan dan peningkatan sistem rekomendasi ini agar dapat tetap relevan dan efektif dalam menghadapi dinamika pasar dan kebutuhan pelanggan."
   ]
  },
  {
   "cell_type": "markdown",
   "id": "564727a6",
   "metadata": {},
   "source": [
    "### Deploy Model"
   ]
  },
  {
   "cell_type": "code",
   "execution_count": 68,
   "id": "316e8d08",
   "metadata": {},
   "outputs": [
    {
     "data": {
      "application/javascript": [
       "\n",
       "        if (window._pyforest_update_imports_cell) { window._pyforest_update_imports_cell('from sklearn.feature_extraction.text import CountVectorizer\\nimport pickle\\nimport pandas as pd'); }\n",
       "    "
      ],
      "text/plain": [
       "<IPython.core.display.Javascript object>"
      ]
     },
     "metadata": {},
     "output_type": "display_data"
    },
    {
     "data": {
      "application/javascript": [
       "\n",
       "        if (window._pyforest_update_imports_cell) { window._pyforest_update_imports_cell('from sklearn.feature_extraction.text import CountVectorizer\\nimport pickle\\nimport pandas as pd'); }\n",
       "    "
      ],
      "text/plain": [
       "<IPython.core.display.Javascript object>"
      ]
     },
     "metadata": {},
     "output_type": "display_data"
    },
    {
     "data": {
      "application/javascript": [
       "\n",
       "        if (window._pyforest_update_imports_cell) { window._pyforest_update_imports_cell('from sklearn.feature_extraction.text import CountVectorizer\\nimport pickle\\nimport pandas as pd'); }\n",
       "    "
      ],
      "text/plain": [
       "<IPython.core.display.Javascript object>"
      ]
     },
     "metadata": {},
     "output_type": "display_data"
    },
    {
     "data": {
      "application/javascript": [
       "\n",
       "        if (window._pyforest_update_imports_cell) { window._pyforest_update_imports_cell('from sklearn.feature_extraction.text import CountVectorizer\\nimport pickle\\nimport pandas as pd'); }\n",
       "    "
      ],
      "text/plain": [
       "<IPython.core.display.Javascript object>"
      ]
     },
     "metadata": {},
     "output_type": "display_data"
    }
   ],
   "source": [
    "with open('C:/Users/ASUS/kode/Projek/Recommendation_System_Manettas/df_baru.pkl', 'wb') as file:\n",
    "    pickle.dump(df_baru, file)\n",
    "with open('C:/Users/ASUS/kode/Projek/Recommendation_System_Manettas/count_vectorizer_model.pkl', 'wb') as file:\n",
    "    pickle.dump(cv, file)\n",
    "with open('C:/Users/ASUS/kode/Projek/Recommendation_System_Manettas/cosine_similarity_model.pkl', 'wb') as file:\n",
    "    pickle.dump(kesamaan, file)\n",
    "with open('C:/Users/ASUS/kode/Projek/Recommendation_System_Manettas/vektor_model.pkl', 'wb') as file:\n",
    "    pickle.dump(vektor, file)"
   ]
  }
 ],
 "metadata": {
  "kernelspec": {
   "display_name": "Python 3 (ipykernel)",
   "language": "python",
   "name": "python3"
  },
  "language_info": {
   "codemirror_mode": {
    "name": "ipython",
    "version": 3
   },
   "file_extension": ".py",
   "mimetype": "text/x-python",
   "name": "python",
   "nbconvert_exporter": "python",
   "pygments_lexer": "ipython3",
   "version": "3.11.5"
  }
 },
 "nbformat": 4,
 "nbformat_minor": 5
}
